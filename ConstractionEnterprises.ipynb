{
  "nbformat": 4,
  "nbformat_minor": 0,
  "metadata": {
    "colab": {
      "provenance": [],
      "authorship_tag": "ABX9TyMBvXth88Bqq2e7Gwfi8epn",
      "include_colab_link": true
    },
    "kernelspec": {
      "name": "python3",
      "display_name": "Python 3"
    },
    "language_info": {
      "name": "python"
    }
  },
  "cells": [
    {
      "cell_type": "markdown",
      "metadata": {
        "id": "view-in-github",
        "colab_type": "text"
      },
      "source": [
        "<a href=\"https://colab.research.google.com/github/Gizatie/Dataset-of-PMKAs/blob/main/ConstractionEnterprises.ipynb\" target=\"_parent\"><img src=\"https://colab.research.google.com/assets/colab-badge.svg\" alt=\"Open In Colab\"/></a>"
      ]
    },
    {
      "cell_type": "code",
      "execution_count": null,
      "metadata": {
        "id": "bQJErEvOKXc4"
      },
      "outputs": [],
      "source": [
        "import pandas as pd\n",
        "import numpy as np\n",
        "import matplotlib.pyplot as plt"
      ]
    },
    {
      "cell_type": "code",
      "source": [
        "from google.colab import drive\n",
        "drive.mount('/content/drive')#connect notebook to googleDrive"
      ],
      "metadata": {
        "colab": {
          "base_uri": "https://localhost:8080/"
        },
        "id": "MCAh-nvDj4TF",
        "outputId": "29f4a62c-3b6e-44a4-dbb3-721102f17b23"
      },
      "execution_count": null,
      "outputs": [
        {
          "output_type": "stream",
          "name": "stdout",
          "text": [
            "Mounted at /content/drive\n"
          ]
        }
      ]
    },
    {
      "cell_type": "code",
      "source": [
        "!pip install -U -q PyDrive\n",
        " \n",
        "from pydrive.auth import GoogleAuth\n",
        "from pydrive.drive import GoogleDrive\n",
        "from google.colab import auth\n",
        "from oauth2client.client import GoogleCredentials"
      ],
      "metadata": {
        "id": "P1wpIcEukDWE"
      },
      "execution_count": null,
      "outputs": []
    },
    {
      "cell_type": "code",
      "source": [
        "# Authenticate and create the PyDrive client.\n",
        "auth.authenticate_user()\n",
        "gauth = GoogleAuth()\n",
        "gauth.credentials = GoogleCredentials.get_application_default()\n",
        "drive = GoogleDrive(gauth)"
      ],
      "metadata": {
        "id": "UWl2I6eHkGJC"
      },
      "execution_count": null,
      "outputs": []
    },
    {
      "cell_type": "code",
      "source": [
        "url = 'https://drive.google.com/file/d/1BUfdU86mJPXzoWUWSEkG-cmoUm7jdGWp/view?usp=sharing'"
      ],
      "metadata": {
        "id": "7JpjWJhrqImG"
      },
      "execution_count": null,
      "outputs": []
    },
    {
      "cell_type": "code",
      "source": [
        "# to get the id part of the file\n",
        "id = url.split(\"/\")[-2]\n",
        " \n",
        "downloaded = drive.CreateFile({'id':id})\n",
        "downloaded.GetContentFile('Dataset for Constraction enterprises.csv') \n",
        " \n",
        "df = pd.read_csv('Dataset for Constraction enterprises.csv')\n",
        "print(df)"
      ],
      "metadata": {
        "colab": {
          "base_uri": "https://localhost:8080/"
        },
        "id": "E9UoVj7cbIKS",
        "outputId": "87d5fe5c-e7b6-40e9-f20d-9f9beeae706f"
      },
      "execution_count": null,
      "outputs": [
        {
          "output_type": "stream",
          "name": "stdout",
          "text": [
            "             Project_Name                  Enterprise_Name         Zone  \\\n",
            "0     Building Contractor            Tesfa and his friends          Awi   \n",
            "1        Block production           Hassan and his friends          Awi   \n",
            "2     Building Contractor            Adam  and his friends          Awi   \n",
            "3                  Paving  Mulu, Habetam and their friends          Awi   \n",
            "4                  Paving          Yibabie and his friends          Awi   \n",
            "...                   ...                              ...          ...   \n",
            "1813  Building Contractor             Abel and his friends  West Gonder   \n",
            "1814  Building Contractor                          Solomon  West Gonder   \n",
            "1815  Building Contractor                          Degefaw  South Wollo   \n",
            "1816  Building Contractor                          Lemamew  South Wollo   \n",
            "1817  Building Contractor    Samuel Elkd and their friends  South Wollo   \n",
            "\n",
            "      StartingYear  Expreance        Owner_Of_The_Project Contract_Type_Used  \\\n",
            "0             2011          2  ANRS Job & Training Bureau               UPCC   \n",
            "1             2010          3  ANRS Job & Training Bureau               UPCC   \n",
            "2             2012          1  ANRS Job & Training Bureau               TMCC   \n",
            "3             2012          1  ANRS Job & Training Bureau               TMCC   \n",
            "4             2012          1  ANRS Job & Training Bureau               TMCC   \n",
            "...            ...        ...                         ...                ...   \n",
            "1813          2010          3  ANRS Job & Training Bureau               CPCC   \n",
            "1814          2011          2  ANRS Job & Training Bureau               TMCC   \n",
            "1815          2005          8  ANRS Job & Training Bureau               FPCC   \n",
            "1816          2009          4  ANRS Job & Training Bureau               CPCC   \n",
            "1817          2009          4  ANRS Job & Training Bureau               TMCC   \n",
            "\n",
            "     Education_Label Effectiveness_Of_The_CT Profitability_Of_Ownership  \\\n",
            "0       Below_Degree                      No                         No   \n",
            "1       Below_Degree                      No                         No   \n",
            "2             Degree                      No                         No   \n",
            "3       Below_Degree                     Yes                        Yes   \n",
            "4       Above_Degree                      No                         No   \n",
            "...              ...                     ...                        ...   \n",
            "1813          Degree                      No                         No   \n",
            "1814          Degree                     Yes                         No   \n",
            "1815          Degree                      No                         No   \n",
            "1816          Degree                     Yes                         No   \n",
            "1817          Degree                     Yes                         No   \n",
            "\n",
            "     Profitability_Of_Enterprise Project_Situations Properties_of_CT Class  \n",
            "0                            Yes                 No              PAC  CPCC  \n",
            "1                            Yes                 No              PEG  CPCC  \n",
            "2                            Yes                 No              MPC  CPCC  \n",
            "3                            Yes                Yes              SPS  CPCC  \n",
            "4                             No                 No             SDBP  CPCC  \n",
            "...                          ...                ...              ...   ...  \n",
            "1813                         Yes                 No             SDBP  UPCC  \n",
            "1814                          No                Yes             LWDS  UPCC  \n",
            "1815                          No                 No              BFA  UPCC  \n",
            "1816                         Yes                 No             SDBP  UPCC  \n",
            "1817                          No                Yes             LWDS  UPCC  \n",
            "\n",
            "[1818 rows x 14 columns]\n"
          ]
        }
      ]
    },
    {
      "cell_type": "code",
      "source": [
        "# df=pd.read_csv('Const.csv')"
      ],
      "metadata": {
        "id": "bUnPTCejKw1a"
      },
      "execution_count": null,
      "outputs": []
    },
    {
      "cell_type": "code",
      "source": [
        "df.columns"
      ],
      "metadata": {
        "colab": {
          "base_uri": "https://localhost:8080/"
        },
        "id": "jewfbLSQrXYN",
        "outputId": "a4b61f81-eabe-4e15-d19d-8199a6e5afbd"
      },
      "execution_count": null,
      "outputs": [
        {
          "output_type": "execute_result",
          "data": {
            "text/plain": [
              "Index(['Project_Name', 'Enterprise_Name', 'Zone', 'StartingYear', 'Expreance',\n",
              "       'Owner_Of_The_Project', 'Contract_Type_Used', 'Education_Label',\n",
              "       'Effectiveness_Of_The_CT', 'Profitability_Of_Ownership',\n",
              "       'Profitability_Of_Enterprise', 'Project_Situations', 'Properties_of_CT',\n",
              "       'Class'],\n",
              "      dtype='object')"
            ]
          },
          "metadata": {},
          "execution_count": 10
        }
      ]
    },
    {
      "cell_type": "code",
      "source": [
        "df.head()"
      ],
      "metadata": {
        "colab": {
          "base_uri": "https://localhost:8080/",
          "height": 357
        },
        "id": "pEa1-tdIK2yq",
        "outputId": "d1422f09-c46d-4555-f3dd-3e10cfb0a576"
      },
      "execution_count": null,
      "outputs": [
        {
          "output_type": "execute_result",
          "data": {
            "text/plain": [
              "          Project_Name                  Enterprise_Name Zone  StartingYear  \\\n",
              "0  Building Contractor            Tesfa and his friends  Awi          2011   \n",
              "1     Block production           Hassan and his friends  Awi          2010   \n",
              "2  Building Contractor            Adam  and his friends  Awi          2012   \n",
              "3               Paving  Mulu, Habetam and their friends  Awi          2012   \n",
              "4               Paving          Yibabie and his friends  Awi          2012   \n",
              "\n",
              "   Expreance        Owner_Of_The_Project Contract_Type_Used Education_Label  \\\n",
              "0          2  ANRS Job & Training Bureau               UPCC    Below_Degree   \n",
              "1          3  ANRS Job & Training Bureau               UPCC    Below_Degree   \n",
              "2          1  ANRS Job & Training Bureau               TMCC          Degree   \n",
              "3          1  ANRS Job & Training Bureau               TMCC    Below_Degree   \n",
              "4          1  ANRS Job & Training Bureau               TMCC    Above_Degree   \n",
              "\n",
              "  Effectiveness_Of_The_CT Profitability_Of_Ownership  \\\n",
              "0                      No                         No   \n",
              "1                      No                         No   \n",
              "2                      No                         No   \n",
              "3                     Yes                        Yes   \n",
              "4                      No                         No   \n",
              "\n",
              "  Profitability_Of_Enterprise Project_Situations Properties_of_CT Class  \n",
              "0                         Yes                 No              PAC  CPCC  \n",
              "1                         Yes                 No              PEG  CPCC  \n",
              "2                         Yes                 No              MPC  CPCC  \n",
              "3                         Yes                Yes              SPS  CPCC  \n",
              "4                          No                 No             SDBP  CPCC  "
            ],
            "text/html": [
              "\n",
              "  <div id=\"df-83d6b005-b1ac-4b59-8aa7-9ae12f716960\">\n",
              "    <div class=\"colab-df-container\">\n",
              "      <div>\n",
              "<style scoped>\n",
              "    .dataframe tbody tr th:only-of-type {\n",
              "        vertical-align: middle;\n",
              "    }\n",
              "\n",
              "    .dataframe tbody tr th {\n",
              "        vertical-align: top;\n",
              "    }\n",
              "\n",
              "    .dataframe thead th {\n",
              "        text-align: right;\n",
              "    }\n",
              "</style>\n",
              "<table border=\"1\" class=\"dataframe\">\n",
              "  <thead>\n",
              "    <tr style=\"text-align: right;\">\n",
              "      <th></th>\n",
              "      <th>Project_Name</th>\n",
              "      <th>Enterprise_Name</th>\n",
              "      <th>Zone</th>\n",
              "      <th>StartingYear</th>\n",
              "      <th>Expreance</th>\n",
              "      <th>Owner_Of_The_Project</th>\n",
              "      <th>Contract_Type_Used</th>\n",
              "      <th>Education_Label</th>\n",
              "      <th>Effectiveness_Of_The_CT</th>\n",
              "      <th>Profitability_Of_Ownership</th>\n",
              "      <th>Profitability_Of_Enterprise</th>\n",
              "      <th>Project_Situations</th>\n",
              "      <th>Properties_of_CT</th>\n",
              "      <th>Class</th>\n",
              "    </tr>\n",
              "  </thead>\n",
              "  <tbody>\n",
              "    <tr>\n",
              "      <th>0</th>\n",
              "      <td>Building Contractor</td>\n",
              "      <td>Tesfa and his friends</td>\n",
              "      <td>Awi</td>\n",
              "      <td>2011</td>\n",
              "      <td>2</td>\n",
              "      <td>ANRS Job &amp; Training Bureau</td>\n",
              "      <td>UPCC</td>\n",
              "      <td>Below_Degree</td>\n",
              "      <td>No</td>\n",
              "      <td>No</td>\n",
              "      <td>Yes</td>\n",
              "      <td>No</td>\n",
              "      <td>PAC</td>\n",
              "      <td>CPCC</td>\n",
              "    </tr>\n",
              "    <tr>\n",
              "      <th>1</th>\n",
              "      <td>Block production</td>\n",
              "      <td>Hassan and his friends</td>\n",
              "      <td>Awi</td>\n",
              "      <td>2010</td>\n",
              "      <td>3</td>\n",
              "      <td>ANRS Job &amp; Training Bureau</td>\n",
              "      <td>UPCC</td>\n",
              "      <td>Below_Degree</td>\n",
              "      <td>No</td>\n",
              "      <td>No</td>\n",
              "      <td>Yes</td>\n",
              "      <td>No</td>\n",
              "      <td>PEG</td>\n",
              "      <td>CPCC</td>\n",
              "    </tr>\n",
              "    <tr>\n",
              "      <th>2</th>\n",
              "      <td>Building Contractor</td>\n",
              "      <td>Adam  and his friends</td>\n",
              "      <td>Awi</td>\n",
              "      <td>2012</td>\n",
              "      <td>1</td>\n",
              "      <td>ANRS Job &amp; Training Bureau</td>\n",
              "      <td>TMCC</td>\n",
              "      <td>Degree</td>\n",
              "      <td>No</td>\n",
              "      <td>No</td>\n",
              "      <td>Yes</td>\n",
              "      <td>No</td>\n",
              "      <td>MPC</td>\n",
              "      <td>CPCC</td>\n",
              "    </tr>\n",
              "    <tr>\n",
              "      <th>3</th>\n",
              "      <td>Paving</td>\n",
              "      <td>Mulu, Habetam and their friends</td>\n",
              "      <td>Awi</td>\n",
              "      <td>2012</td>\n",
              "      <td>1</td>\n",
              "      <td>ANRS Job &amp; Training Bureau</td>\n",
              "      <td>TMCC</td>\n",
              "      <td>Below_Degree</td>\n",
              "      <td>Yes</td>\n",
              "      <td>Yes</td>\n",
              "      <td>Yes</td>\n",
              "      <td>Yes</td>\n",
              "      <td>SPS</td>\n",
              "      <td>CPCC</td>\n",
              "    </tr>\n",
              "    <tr>\n",
              "      <th>4</th>\n",
              "      <td>Paving</td>\n",
              "      <td>Yibabie and his friends</td>\n",
              "      <td>Awi</td>\n",
              "      <td>2012</td>\n",
              "      <td>1</td>\n",
              "      <td>ANRS Job &amp; Training Bureau</td>\n",
              "      <td>TMCC</td>\n",
              "      <td>Above_Degree</td>\n",
              "      <td>No</td>\n",
              "      <td>No</td>\n",
              "      <td>No</td>\n",
              "      <td>No</td>\n",
              "      <td>SDBP</td>\n",
              "      <td>CPCC</td>\n",
              "    </tr>\n",
              "  </tbody>\n",
              "</table>\n",
              "</div>\n",
              "      <button class=\"colab-df-convert\" onclick=\"convertToInteractive('df-83d6b005-b1ac-4b59-8aa7-9ae12f716960')\"\n",
              "              title=\"Convert this dataframe to an interactive table.\"\n",
              "              style=\"display:none;\">\n",
              "        \n",
              "  <svg xmlns=\"http://www.w3.org/2000/svg\" height=\"24px\"viewBox=\"0 0 24 24\"\n",
              "       width=\"24px\">\n",
              "    <path d=\"M0 0h24v24H0V0z\" fill=\"none\"/>\n",
              "    <path d=\"M18.56 5.44l.94 2.06.94-2.06 2.06-.94-2.06-.94-.94-2.06-.94 2.06-2.06.94zm-11 1L8.5 8.5l.94-2.06 2.06-.94-2.06-.94L8.5 2.5l-.94 2.06-2.06.94zm10 10l.94 2.06.94-2.06 2.06-.94-2.06-.94-.94-2.06-.94 2.06-2.06.94z\"/><path d=\"M17.41 7.96l-1.37-1.37c-.4-.4-.92-.59-1.43-.59-.52 0-1.04.2-1.43.59L10.3 9.45l-7.72 7.72c-.78.78-.78 2.05 0 2.83L4 21.41c.39.39.9.59 1.41.59.51 0 1.02-.2 1.41-.59l7.78-7.78 2.81-2.81c.8-.78.8-2.07 0-2.86zM5.41 20L4 18.59l7.72-7.72 1.47 1.35L5.41 20z\"/>\n",
              "  </svg>\n",
              "      </button>\n",
              "      \n",
              "  <style>\n",
              "    .colab-df-container {\n",
              "      display:flex;\n",
              "      flex-wrap:wrap;\n",
              "      gap: 12px;\n",
              "    }\n",
              "\n",
              "    .colab-df-convert {\n",
              "      background-color: #E8F0FE;\n",
              "      border: none;\n",
              "      border-radius: 50%;\n",
              "      cursor: pointer;\n",
              "      display: none;\n",
              "      fill: #1967D2;\n",
              "      height: 32px;\n",
              "      padding: 0 0 0 0;\n",
              "      width: 32px;\n",
              "    }\n",
              "\n",
              "    .colab-df-convert:hover {\n",
              "      background-color: #E2EBFA;\n",
              "      box-shadow: 0px 1px 2px rgba(60, 64, 67, 0.3), 0px 1px 3px 1px rgba(60, 64, 67, 0.15);\n",
              "      fill: #174EA6;\n",
              "    }\n",
              "\n",
              "    [theme=dark] .colab-df-convert {\n",
              "      background-color: #3B4455;\n",
              "      fill: #D2E3FC;\n",
              "    }\n",
              "\n",
              "    [theme=dark] .colab-df-convert:hover {\n",
              "      background-color: #434B5C;\n",
              "      box-shadow: 0px 1px 3px 1px rgba(0, 0, 0, 0.15);\n",
              "      filter: drop-shadow(0px 1px 2px rgba(0, 0, 0, 0.3));\n",
              "      fill: #FFFFFF;\n",
              "    }\n",
              "  </style>\n",
              "\n",
              "      <script>\n",
              "        const buttonEl =\n",
              "          document.querySelector('#df-83d6b005-b1ac-4b59-8aa7-9ae12f716960 button.colab-df-convert');\n",
              "        buttonEl.style.display =\n",
              "          google.colab.kernel.accessAllowed ? 'block' : 'none';\n",
              "\n",
              "        async function convertToInteractive(key) {\n",
              "          const element = document.querySelector('#df-83d6b005-b1ac-4b59-8aa7-9ae12f716960');\n",
              "          const dataTable =\n",
              "            await google.colab.kernel.invokeFunction('convertToInteractive',\n",
              "                                                     [key], {});\n",
              "          if (!dataTable) return;\n",
              "\n",
              "          const docLinkHtml = 'Like what you see? Visit the ' +\n",
              "            '<a target=\"_blank\" href=https://colab.research.google.com/notebooks/data_table.ipynb>data table notebook</a>'\n",
              "            + ' to learn more about interactive tables.';\n",
              "          element.innerHTML = '';\n",
              "          dataTable['output_type'] = 'display_data';\n",
              "          await google.colab.output.renderOutput(dataTable, element);\n",
              "          const docLink = document.createElement('div');\n",
              "          docLink.innerHTML = docLinkHtml;\n",
              "          element.appendChild(docLink);\n",
              "        }\n",
              "      </script>\n",
              "    </div>\n",
              "  </div>\n",
              "  "
            ]
          },
          "metadata": {},
          "execution_count": 11
        }
      ]
    },
    {
      "cell_type": "code",
      "source": [
        "df.shape"
      ],
      "metadata": {
        "colab": {
          "base_uri": "https://localhost:8080/"
        },
        "id": "bRO8qlrNLxNC",
        "outputId": "f12e0d6b-d62c-41cd-afad-dfad95a87553"
      },
      "execution_count": null,
      "outputs": [
        {
          "output_type": "execute_result",
          "data": {
            "text/plain": [
              "(1818, 14)"
            ]
          },
          "metadata": {},
          "execution_count": 12
        }
      ]
    },
    {
      "cell_type": "code",
      "source": [
        "newdf = df"
      ],
      "metadata": {
        "id": "Kfqr2plaLzyR"
      },
      "execution_count": null,
      "outputs": []
    },
    {
      "cell_type": "code",
      "source": [
        "newdf.shape"
      ],
      "metadata": {
        "colab": {
          "base_uri": "https://localhost:8080/"
        },
        "id": "_Z-dJpfkL3hp",
        "outputId": "2b1a3de5-92f2-4026-a0ca-93b18f4845de"
      },
      "execution_count": null,
      "outputs": [
        {
          "output_type": "execute_result",
          "data": {
            "text/plain": [
              "(1818, 14)"
            ]
          },
          "metadata": {},
          "execution_count": 14
        }
      ]
    },
    {
      "cell_type": "code",
      "source": [
        "df.shape"
      ],
      "metadata": {
        "colab": {
          "base_uri": "https://localhost:8080/"
        },
        "id": "x22xVVlrL78k",
        "outputId": "3ddbdf06-52e7-431c-9cf8-c8217ccd95dc"
      },
      "execution_count": null,
      "outputs": [
        {
          "output_type": "execute_result",
          "data": {
            "text/plain": [
              "(1818, 14)"
            ]
          },
          "metadata": {},
          "execution_count": 15
        }
      ]
    },
    {
      "cell_type": "code",
      "source": [
        "newdf.head()"
      ],
      "metadata": {
        "colab": {
          "base_uri": "https://localhost:8080/",
          "height": 357
        },
        "id": "qzz8GPndL-vY",
        "outputId": "c2e43587-3a88-4be2-cdf7-e3b7b1b24e6c"
      },
      "execution_count": null,
      "outputs": [
        {
          "output_type": "execute_result",
          "data": {
            "text/plain": [
              "          Project_Name                  Enterprise_Name Zone  StartingYear  \\\n",
              "0  Building Contractor            Tesfa and his friends  Awi          2011   \n",
              "1     Block production           Hassan and his friends  Awi          2010   \n",
              "2  Building Contractor            Adam  and his friends  Awi          2012   \n",
              "3               Paving  Mulu, Habetam and their friends  Awi          2012   \n",
              "4               Paving          Yibabie and his friends  Awi          2012   \n",
              "\n",
              "   Expreance        Owner_Of_The_Project Contract_Type_Used Education_Label  \\\n",
              "0          2  ANRS Job & Training Bureau               UPCC    Below_Degree   \n",
              "1          3  ANRS Job & Training Bureau               UPCC    Below_Degree   \n",
              "2          1  ANRS Job & Training Bureau               TMCC          Degree   \n",
              "3          1  ANRS Job & Training Bureau               TMCC    Below_Degree   \n",
              "4          1  ANRS Job & Training Bureau               TMCC    Above_Degree   \n",
              "\n",
              "  Effectiveness_Of_The_CT Profitability_Of_Ownership  \\\n",
              "0                      No                         No   \n",
              "1                      No                         No   \n",
              "2                      No                         No   \n",
              "3                     Yes                        Yes   \n",
              "4                      No                         No   \n",
              "\n",
              "  Profitability_Of_Enterprise Project_Situations Properties_of_CT Class  \n",
              "0                         Yes                 No              PAC  CPCC  \n",
              "1                         Yes                 No              PEG  CPCC  \n",
              "2                         Yes                 No              MPC  CPCC  \n",
              "3                         Yes                Yes              SPS  CPCC  \n",
              "4                          No                 No             SDBP  CPCC  "
            ],
            "text/html": [
              "\n",
              "  <div id=\"df-1a48006d-b0a5-4312-85f2-cbe5605c7914\">\n",
              "    <div class=\"colab-df-container\">\n",
              "      <div>\n",
              "<style scoped>\n",
              "    .dataframe tbody tr th:only-of-type {\n",
              "        vertical-align: middle;\n",
              "    }\n",
              "\n",
              "    .dataframe tbody tr th {\n",
              "        vertical-align: top;\n",
              "    }\n",
              "\n",
              "    .dataframe thead th {\n",
              "        text-align: right;\n",
              "    }\n",
              "</style>\n",
              "<table border=\"1\" class=\"dataframe\">\n",
              "  <thead>\n",
              "    <tr style=\"text-align: right;\">\n",
              "      <th></th>\n",
              "      <th>Project_Name</th>\n",
              "      <th>Enterprise_Name</th>\n",
              "      <th>Zone</th>\n",
              "      <th>StartingYear</th>\n",
              "      <th>Expreance</th>\n",
              "      <th>Owner_Of_The_Project</th>\n",
              "      <th>Contract_Type_Used</th>\n",
              "      <th>Education_Label</th>\n",
              "      <th>Effectiveness_Of_The_CT</th>\n",
              "      <th>Profitability_Of_Ownership</th>\n",
              "      <th>Profitability_Of_Enterprise</th>\n",
              "      <th>Project_Situations</th>\n",
              "      <th>Properties_of_CT</th>\n",
              "      <th>Class</th>\n",
              "    </tr>\n",
              "  </thead>\n",
              "  <tbody>\n",
              "    <tr>\n",
              "      <th>0</th>\n",
              "      <td>Building Contractor</td>\n",
              "      <td>Tesfa and his friends</td>\n",
              "      <td>Awi</td>\n",
              "      <td>2011</td>\n",
              "      <td>2</td>\n",
              "      <td>ANRS Job &amp; Training Bureau</td>\n",
              "      <td>UPCC</td>\n",
              "      <td>Below_Degree</td>\n",
              "      <td>No</td>\n",
              "      <td>No</td>\n",
              "      <td>Yes</td>\n",
              "      <td>No</td>\n",
              "      <td>PAC</td>\n",
              "      <td>CPCC</td>\n",
              "    </tr>\n",
              "    <tr>\n",
              "      <th>1</th>\n",
              "      <td>Block production</td>\n",
              "      <td>Hassan and his friends</td>\n",
              "      <td>Awi</td>\n",
              "      <td>2010</td>\n",
              "      <td>3</td>\n",
              "      <td>ANRS Job &amp; Training Bureau</td>\n",
              "      <td>UPCC</td>\n",
              "      <td>Below_Degree</td>\n",
              "      <td>No</td>\n",
              "      <td>No</td>\n",
              "      <td>Yes</td>\n",
              "      <td>No</td>\n",
              "      <td>PEG</td>\n",
              "      <td>CPCC</td>\n",
              "    </tr>\n",
              "    <tr>\n",
              "      <th>2</th>\n",
              "      <td>Building Contractor</td>\n",
              "      <td>Adam  and his friends</td>\n",
              "      <td>Awi</td>\n",
              "      <td>2012</td>\n",
              "      <td>1</td>\n",
              "      <td>ANRS Job &amp; Training Bureau</td>\n",
              "      <td>TMCC</td>\n",
              "      <td>Degree</td>\n",
              "      <td>No</td>\n",
              "      <td>No</td>\n",
              "      <td>Yes</td>\n",
              "      <td>No</td>\n",
              "      <td>MPC</td>\n",
              "      <td>CPCC</td>\n",
              "    </tr>\n",
              "    <tr>\n",
              "      <th>3</th>\n",
              "      <td>Paving</td>\n",
              "      <td>Mulu, Habetam and their friends</td>\n",
              "      <td>Awi</td>\n",
              "      <td>2012</td>\n",
              "      <td>1</td>\n",
              "      <td>ANRS Job &amp; Training Bureau</td>\n",
              "      <td>TMCC</td>\n",
              "      <td>Below_Degree</td>\n",
              "      <td>Yes</td>\n",
              "      <td>Yes</td>\n",
              "      <td>Yes</td>\n",
              "      <td>Yes</td>\n",
              "      <td>SPS</td>\n",
              "      <td>CPCC</td>\n",
              "    </tr>\n",
              "    <tr>\n",
              "      <th>4</th>\n",
              "      <td>Paving</td>\n",
              "      <td>Yibabie and his friends</td>\n",
              "      <td>Awi</td>\n",
              "      <td>2012</td>\n",
              "      <td>1</td>\n",
              "      <td>ANRS Job &amp; Training Bureau</td>\n",
              "      <td>TMCC</td>\n",
              "      <td>Above_Degree</td>\n",
              "      <td>No</td>\n",
              "      <td>No</td>\n",
              "      <td>No</td>\n",
              "      <td>No</td>\n",
              "      <td>SDBP</td>\n",
              "      <td>CPCC</td>\n",
              "    </tr>\n",
              "  </tbody>\n",
              "</table>\n",
              "</div>\n",
              "      <button class=\"colab-df-convert\" onclick=\"convertToInteractive('df-1a48006d-b0a5-4312-85f2-cbe5605c7914')\"\n",
              "              title=\"Convert this dataframe to an interactive table.\"\n",
              "              style=\"display:none;\">\n",
              "        \n",
              "  <svg xmlns=\"http://www.w3.org/2000/svg\" height=\"24px\"viewBox=\"0 0 24 24\"\n",
              "       width=\"24px\">\n",
              "    <path d=\"M0 0h24v24H0V0z\" fill=\"none\"/>\n",
              "    <path d=\"M18.56 5.44l.94 2.06.94-2.06 2.06-.94-2.06-.94-.94-2.06-.94 2.06-2.06.94zm-11 1L8.5 8.5l.94-2.06 2.06-.94-2.06-.94L8.5 2.5l-.94 2.06-2.06.94zm10 10l.94 2.06.94-2.06 2.06-.94-2.06-.94-.94-2.06-.94 2.06-2.06.94z\"/><path d=\"M17.41 7.96l-1.37-1.37c-.4-.4-.92-.59-1.43-.59-.52 0-1.04.2-1.43.59L10.3 9.45l-7.72 7.72c-.78.78-.78 2.05 0 2.83L4 21.41c.39.39.9.59 1.41.59.51 0 1.02-.2 1.41-.59l7.78-7.78 2.81-2.81c.8-.78.8-2.07 0-2.86zM5.41 20L4 18.59l7.72-7.72 1.47 1.35L5.41 20z\"/>\n",
              "  </svg>\n",
              "      </button>\n",
              "      \n",
              "  <style>\n",
              "    .colab-df-container {\n",
              "      display:flex;\n",
              "      flex-wrap:wrap;\n",
              "      gap: 12px;\n",
              "    }\n",
              "\n",
              "    .colab-df-convert {\n",
              "      background-color: #E8F0FE;\n",
              "      border: none;\n",
              "      border-radius: 50%;\n",
              "      cursor: pointer;\n",
              "      display: none;\n",
              "      fill: #1967D2;\n",
              "      height: 32px;\n",
              "      padding: 0 0 0 0;\n",
              "      width: 32px;\n",
              "    }\n",
              "\n",
              "    .colab-df-convert:hover {\n",
              "      background-color: #E2EBFA;\n",
              "      box-shadow: 0px 1px 2px rgba(60, 64, 67, 0.3), 0px 1px 3px 1px rgba(60, 64, 67, 0.15);\n",
              "      fill: #174EA6;\n",
              "    }\n",
              "\n",
              "    [theme=dark] .colab-df-convert {\n",
              "      background-color: #3B4455;\n",
              "      fill: #D2E3FC;\n",
              "    }\n",
              "\n",
              "    [theme=dark] .colab-df-convert:hover {\n",
              "      background-color: #434B5C;\n",
              "      box-shadow: 0px 1px 3px 1px rgba(0, 0, 0, 0.15);\n",
              "      filter: drop-shadow(0px 1px 2px rgba(0, 0, 0, 0.3));\n",
              "      fill: #FFFFFF;\n",
              "    }\n",
              "  </style>\n",
              "\n",
              "      <script>\n",
              "        const buttonEl =\n",
              "          document.querySelector('#df-1a48006d-b0a5-4312-85f2-cbe5605c7914 button.colab-df-convert');\n",
              "        buttonEl.style.display =\n",
              "          google.colab.kernel.accessAllowed ? 'block' : 'none';\n",
              "\n",
              "        async function convertToInteractive(key) {\n",
              "          const element = document.querySelector('#df-1a48006d-b0a5-4312-85f2-cbe5605c7914');\n",
              "          const dataTable =\n",
              "            await google.colab.kernel.invokeFunction('convertToInteractive',\n",
              "                                                     [key], {});\n",
              "          if (!dataTable) return;\n",
              "\n",
              "          const docLinkHtml = 'Like what you see? Visit the ' +\n",
              "            '<a target=\"_blank\" href=https://colab.research.google.com/notebooks/data_table.ipynb>data table notebook</a>'\n",
              "            + ' to learn more about interactive tables.';\n",
              "          element.innerHTML = '';\n",
              "          dataTable['output_type'] = 'display_data';\n",
              "          await google.colab.output.renderOutput(dataTable, element);\n",
              "          const docLink = document.createElement('div');\n",
              "          docLink.innerHTML = docLinkHtml;\n",
              "          element.appendChild(docLink);\n",
              "        }\n",
              "      </script>\n",
              "    </div>\n",
              "  </div>\n",
              "  "
            ]
          },
          "metadata": {},
          "execution_count": 16
        }
      ]
    },
    {
      "cell_type": "code",
      "source": [
        "cols = df.columns"
      ],
      "metadata": {
        "id": "xFAU7E6VMDpo"
      },
      "execution_count": null,
      "outputs": []
    },
    {
      "cell_type": "code",
      "source": [
        "cols"
      ],
      "metadata": {
        "colab": {
          "base_uri": "https://localhost:8080/"
        },
        "id": "3WhjGHmwMJyy",
        "outputId": "ecc2d3ed-7d01-4fad-ba6d-29bab8698eae"
      },
      "execution_count": null,
      "outputs": [
        {
          "output_type": "execute_result",
          "data": {
            "text/plain": [
              "Index(['Project_Name', 'Enterprise_Name', 'Zone', 'StartingYear', 'Expreance',\n",
              "       'Owner_Of_The_Project', 'Contract_Type_Used', 'Education_Label',\n",
              "       'Effectiveness_Of_The_CT', 'Profitability_Of_Ownership',\n",
              "       'Profitability_Of_Enterprise', 'Project_Situations', 'Properties_of_CT',\n",
              "       'Class'],\n",
              "      dtype='object')"
            ]
          },
          "metadata": {},
          "execution_count": 18
        }
      ]
    },
    {
      "cell_type": "code",
      "source": [
        "data_train=cols[7:12]\n",
        "X=newdf[data_train]\n",
        "y=newdf['Class']"
      ],
      "metadata": {
        "id": "F57UtWByMLpS"
      },
      "execution_count": null,
      "outputs": []
    },
    {
      "cell_type": "code",
      "source": [
        "data_train"
      ],
      "metadata": {
        "colab": {
          "base_uri": "https://localhost:8080/"
        },
        "id": "6BtYvJJdr4KF",
        "outputId": "2a87bef0-5d07-49a6-d4f8-f493297ced11"
      },
      "execution_count": null,
      "outputs": [
        {
          "output_type": "execute_result",
          "data": {
            "text/plain": [
              "Index(['Education_Label', 'Effectiveness_Of_The_CT',\n",
              "       'Profitability_Of_Ownership', 'Profitability_Of_Enterprise',\n",
              "       'Project_Situations'],\n",
              "      dtype='object')"
            ]
          },
          "metadata": {},
          "execution_count": 20
        }
      ]
    },
    {
      "cell_type": "code",
      "source": [
        "X.head()"
      ],
      "metadata": {
        "colab": {
          "base_uri": "https://localhost:8080/",
          "height": 206
        },
        "id": "Mq37tc-uMWFo",
        "outputId": "52f6e789-4efc-4cc0-d81f-1fdb2f4f0ef3"
      },
      "execution_count": null,
      "outputs": [
        {
          "output_type": "execute_result",
          "data": {
            "text/plain": [
              "  Education_Label Effectiveness_Of_The_CT Profitability_Of_Ownership  \\\n",
              "0    Below_Degree                      No                         No   \n",
              "1    Below_Degree                      No                         No   \n",
              "2          Degree                      No                         No   \n",
              "3    Below_Degree                     Yes                        Yes   \n",
              "4    Above_Degree                      No                         No   \n",
              "\n",
              "  Profitability_Of_Enterprise Project_Situations  \n",
              "0                         Yes                 No  \n",
              "1                         Yes                 No  \n",
              "2                         Yes                 No  \n",
              "3                         Yes                Yes  \n",
              "4                          No                 No  "
            ],
            "text/html": [
              "\n",
              "  <div id=\"df-b65840cb-808f-430f-a595-78cb81a076bf\">\n",
              "    <div class=\"colab-df-container\">\n",
              "      <div>\n",
              "<style scoped>\n",
              "    .dataframe tbody tr th:only-of-type {\n",
              "        vertical-align: middle;\n",
              "    }\n",
              "\n",
              "    .dataframe tbody tr th {\n",
              "        vertical-align: top;\n",
              "    }\n",
              "\n",
              "    .dataframe thead th {\n",
              "        text-align: right;\n",
              "    }\n",
              "</style>\n",
              "<table border=\"1\" class=\"dataframe\">\n",
              "  <thead>\n",
              "    <tr style=\"text-align: right;\">\n",
              "      <th></th>\n",
              "      <th>Education_Label</th>\n",
              "      <th>Effectiveness_Of_The_CT</th>\n",
              "      <th>Profitability_Of_Ownership</th>\n",
              "      <th>Profitability_Of_Enterprise</th>\n",
              "      <th>Project_Situations</th>\n",
              "    </tr>\n",
              "  </thead>\n",
              "  <tbody>\n",
              "    <tr>\n",
              "      <th>0</th>\n",
              "      <td>Below_Degree</td>\n",
              "      <td>No</td>\n",
              "      <td>No</td>\n",
              "      <td>Yes</td>\n",
              "      <td>No</td>\n",
              "    </tr>\n",
              "    <tr>\n",
              "      <th>1</th>\n",
              "      <td>Below_Degree</td>\n",
              "      <td>No</td>\n",
              "      <td>No</td>\n",
              "      <td>Yes</td>\n",
              "      <td>No</td>\n",
              "    </tr>\n",
              "    <tr>\n",
              "      <th>2</th>\n",
              "      <td>Degree</td>\n",
              "      <td>No</td>\n",
              "      <td>No</td>\n",
              "      <td>Yes</td>\n",
              "      <td>No</td>\n",
              "    </tr>\n",
              "    <tr>\n",
              "      <th>3</th>\n",
              "      <td>Below_Degree</td>\n",
              "      <td>Yes</td>\n",
              "      <td>Yes</td>\n",
              "      <td>Yes</td>\n",
              "      <td>Yes</td>\n",
              "    </tr>\n",
              "    <tr>\n",
              "      <th>4</th>\n",
              "      <td>Above_Degree</td>\n",
              "      <td>No</td>\n",
              "      <td>No</td>\n",
              "      <td>No</td>\n",
              "      <td>No</td>\n",
              "    </tr>\n",
              "  </tbody>\n",
              "</table>\n",
              "</div>\n",
              "      <button class=\"colab-df-convert\" onclick=\"convertToInteractive('df-b65840cb-808f-430f-a595-78cb81a076bf')\"\n",
              "              title=\"Convert this dataframe to an interactive table.\"\n",
              "              style=\"display:none;\">\n",
              "        \n",
              "  <svg xmlns=\"http://www.w3.org/2000/svg\" height=\"24px\"viewBox=\"0 0 24 24\"\n",
              "       width=\"24px\">\n",
              "    <path d=\"M0 0h24v24H0V0z\" fill=\"none\"/>\n",
              "    <path d=\"M18.56 5.44l.94 2.06.94-2.06 2.06-.94-2.06-.94-.94-2.06-.94 2.06-2.06.94zm-11 1L8.5 8.5l.94-2.06 2.06-.94-2.06-.94L8.5 2.5l-.94 2.06-2.06.94zm10 10l.94 2.06.94-2.06 2.06-.94-2.06-.94-.94-2.06-.94 2.06-2.06.94z\"/><path d=\"M17.41 7.96l-1.37-1.37c-.4-.4-.92-.59-1.43-.59-.52 0-1.04.2-1.43.59L10.3 9.45l-7.72 7.72c-.78.78-.78 2.05 0 2.83L4 21.41c.39.39.9.59 1.41.59.51 0 1.02-.2 1.41-.59l7.78-7.78 2.81-2.81c.8-.78.8-2.07 0-2.86zM5.41 20L4 18.59l7.72-7.72 1.47 1.35L5.41 20z\"/>\n",
              "  </svg>\n",
              "      </button>\n",
              "      \n",
              "  <style>\n",
              "    .colab-df-container {\n",
              "      display:flex;\n",
              "      flex-wrap:wrap;\n",
              "      gap: 12px;\n",
              "    }\n",
              "\n",
              "    .colab-df-convert {\n",
              "      background-color: #E8F0FE;\n",
              "      border: none;\n",
              "      border-radius: 50%;\n",
              "      cursor: pointer;\n",
              "      display: none;\n",
              "      fill: #1967D2;\n",
              "      height: 32px;\n",
              "      padding: 0 0 0 0;\n",
              "      width: 32px;\n",
              "    }\n",
              "\n",
              "    .colab-df-convert:hover {\n",
              "      background-color: #E2EBFA;\n",
              "      box-shadow: 0px 1px 2px rgba(60, 64, 67, 0.3), 0px 1px 3px 1px rgba(60, 64, 67, 0.15);\n",
              "      fill: #174EA6;\n",
              "    }\n",
              "\n",
              "    [theme=dark] .colab-df-convert {\n",
              "      background-color: #3B4455;\n",
              "      fill: #D2E3FC;\n",
              "    }\n",
              "\n",
              "    [theme=dark] .colab-df-convert:hover {\n",
              "      background-color: #434B5C;\n",
              "      box-shadow: 0px 1px 3px 1px rgba(0, 0, 0, 0.15);\n",
              "      filter: drop-shadow(0px 1px 2px rgba(0, 0, 0, 0.3));\n",
              "      fill: #FFFFFF;\n",
              "    }\n",
              "  </style>\n",
              "\n",
              "      <script>\n",
              "        const buttonEl =\n",
              "          document.querySelector('#df-b65840cb-808f-430f-a595-78cb81a076bf button.colab-df-convert');\n",
              "        buttonEl.style.display =\n",
              "          google.colab.kernel.accessAllowed ? 'block' : 'none';\n",
              "\n",
              "        async function convertToInteractive(key) {\n",
              "          const element = document.querySelector('#df-b65840cb-808f-430f-a595-78cb81a076bf');\n",
              "          const dataTable =\n",
              "            await google.colab.kernel.invokeFunction('convertToInteractive',\n",
              "                                                     [key], {});\n",
              "          if (!dataTable) return;\n",
              "\n",
              "          const docLinkHtml = 'Like what you see? Visit the ' +\n",
              "            '<a target=\"_blank\" href=https://colab.research.google.com/notebooks/data_table.ipynb>data table notebook</a>'\n",
              "            + ' to learn more about interactive tables.';\n",
              "          element.innerHTML = '';\n",
              "          dataTable['output_type'] = 'display_data';\n",
              "          await google.colab.output.renderOutput(dataTable, element);\n",
              "          const docLink = document.createElement('div');\n",
              "          docLink.innerHTML = docLinkHtml;\n",
              "          element.appendChild(docLink);\n",
              "        }\n",
              "      </script>\n",
              "    </div>\n",
              "  </div>\n",
              "  "
            ]
          },
          "metadata": {},
          "execution_count": 21
        }
      ]
    },
    {
      "cell_type": "code",
      "source": [
        "y"
      ],
      "metadata": {
        "colab": {
          "base_uri": "https://localhost:8080/"
        },
        "id": "KKauj-ExP7SA",
        "outputId": "c354d628-9fc2-4ada-97f8-8657af1e8a07"
      },
      "execution_count": null,
      "outputs": [
        {
          "output_type": "execute_result",
          "data": {
            "text/plain": [
              "0       CPCC\n",
              "1       CPCC\n",
              "2       CPCC\n",
              "3       CPCC\n",
              "4       CPCC\n",
              "        ... \n",
              "1813    UPCC\n",
              "1814    UPCC\n",
              "1815    UPCC\n",
              "1816    UPCC\n",
              "1817    UPCC\n",
              "Name: Class, Length: 1818, dtype: object"
            ]
          },
          "metadata": {},
          "execution_count": 22
        }
      ]
    },
    {
      "cell_type": "code",
      "source": [
        "(X.columns)"
      ],
      "metadata": {
        "colab": {
          "base_uri": "https://localhost:8080/"
        },
        "id": "ZdrPb12CP-Gp",
        "outputId": "e333dec5-58e2-494b-9a2c-da8f0cb6aaf6"
      },
      "execution_count": null,
      "outputs": [
        {
          "output_type": "execute_result",
          "data": {
            "text/plain": [
              "Index(['Education_Label', 'Effectiveness_Of_The_CT',\n",
              "       'Profitability_Of_Ownership', 'Profitability_Of_Enterprise',\n",
              "       'Project_Situations'],\n",
              "      dtype='object')"
            ]
          },
          "metadata": {},
          "execution_count": 23
        }
      ]
    },
    {
      "cell_type": "code",
      "source": [
        "edu = df.Education_Label.map({'Below_Degree':0, 'Degree':1, 'Above_Degree':2})\n",
        "eff = df.Effectiveness_Of_The_CT.map({'No':0, 'Yes':1})\n",
        "prow = df.Profitability_Of_Ownership.map({'No':0, 'Yes':1})\n",
        "proe = df.Profitability_Of_Enterprise.map({'No':0, 'Yes':1})\n",
        "ps = df.Project_Situations.map({'No':0, 'Yes':1})\n",
        "pct = df.Properties_of_CT.map({'BET':0, 'PAC':1, 'SNC':2, 'BFA':3, 'PCS':0, 'PEG':1, 'CQ':2, 'SDBP':3, 'PCE':3, 'BD':2, 'HB':2, 'MPC':1, 'SPS':1, 'LC':1, 'LWDS':1, 'DS':0, 'PA':0, 'SICC':0, 'EXE':0, 'TPWB':0})"
      ],
      "metadata": {
        "id": "tTtyASo0QUDP"
      },
      "execution_count": null,
      "outputs": []
    },
    {
      "cell_type": "code",
      "source": [
        "dff = pd.concat([edu, eff, prow, proe, ps, pct], axis=1)\n",
        "dff.head()"
      ],
      "metadata": {
        "colab": {
          "base_uri": "https://localhost:8080/",
          "height": 206
        },
        "id": "lVY_lgcOQWVP",
        "outputId": "a5245a1d-f6fd-4728-d61d-41e181e54233"
      },
      "execution_count": null,
      "outputs": [
        {
          "output_type": "execute_result",
          "data": {
            "text/plain": [
              "   Education_Label  Effectiveness_Of_The_CT  Profitability_Of_Ownership  \\\n",
              "0                0                        0                           0   \n",
              "1                0                        0                           0   \n",
              "2                1                        0                           0   \n",
              "3                0                        1                           1   \n",
              "4                2                        0                           0   \n",
              "\n",
              "   Profitability_Of_Enterprise  Project_Situations  Properties_of_CT  \n",
              "0                            1                   0                 1  \n",
              "1                            1                   0                 1  \n",
              "2                            1                   0                 1  \n",
              "3                            1                   1                 1  \n",
              "4                            0                   0                 3  "
            ],
            "text/html": [
              "\n",
              "  <div id=\"df-f49aad2e-496f-43ca-89ec-bed6c9cf37c5\">\n",
              "    <div class=\"colab-df-container\">\n",
              "      <div>\n",
              "<style scoped>\n",
              "    .dataframe tbody tr th:only-of-type {\n",
              "        vertical-align: middle;\n",
              "    }\n",
              "\n",
              "    .dataframe tbody tr th {\n",
              "        vertical-align: top;\n",
              "    }\n",
              "\n",
              "    .dataframe thead th {\n",
              "        text-align: right;\n",
              "    }\n",
              "</style>\n",
              "<table border=\"1\" class=\"dataframe\">\n",
              "  <thead>\n",
              "    <tr style=\"text-align: right;\">\n",
              "      <th></th>\n",
              "      <th>Education_Label</th>\n",
              "      <th>Effectiveness_Of_The_CT</th>\n",
              "      <th>Profitability_Of_Ownership</th>\n",
              "      <th>Profitability_Of_Enterprise</th>\n",
              "      <th>Project_Situations</th>\n",
              "      <th>Properties_of_CT</th>\n",
              "    </tr>\n",
              "  </thead>\n",
              "  <tbody>\n",
              "    <tr>\n",
              "      <th>0</th>\n",
              "      <td>0</td>\n",
              "      <td>0</td>\n",
              "      <td>0</td>\n",
              "      <td>1</td>\n",
              "      <td>0</td>\n",
              "      <td>1</td>\n",
              "    </tr>\n",
              "    <tr>\n",
              "      <th>1</th>\n",
              "      <td>0</td>\n",
              "      <td>0</td>\n",
              "      <td>0</td>\n",
              "      <td>1</td>\n",
              "      <td>0</td>\n",
              "      <td>1</td>\n",
              "    </tr>\n",
              "    <tr>\n",
              "      <th>2</th>\n",
              "      <td>1</td>\n",
              "      <td>0</td>\n",
              "      <td>0</td>\n",
              "      <td>1</td>\n",
              "      <td>0</td>\n",
              "      <td>1</td>\n",
              "    </tr>\n",
              "    <tr>\n",
              "      <th>3</th>\n",
              "      <td>0</td>\n",
              "      <td>1</td>\n",
              "      <td>1</td>\n",
              "      <td>1</td>\n",
              "      <td>1</td>\n",
              "      <td>1</td>\n",
              "    </tr>\n",
              "    <tr>\n",
              "      <th>4</th>\n",
              "      <td>2</td>\n",
              "      <td>0</td>\n",
              "      <td>0</td>\n",
              "      <td>0</td>\n",
              "      <td>0</td>\n",
              "      <td>3</td>\n",
              "    </tr>\n",
              "  </tbody>\n",
              "</table>\n",
              "</div>\n",
              "      <button class=\"colab-df-convert\" onclick=\"convertToInteractive('df-f49aad2e-496f-43ca-89ec-bed6c9cf37c5')\"\n",
              "              title=\"Convert this dataframe to an interactive table.\"\n",
              "              style=\"display:none;\">\n",
              "        \n",
              "  <svg xmlns=\"http://www.w3.org/2000/svg\" height=\"24px\"viewBox=\"0 0 24 24\"\n",
              "       width=\"24px\">\n",
              "    <path d=\"M0 0h24v24H0V0z\" fill=\"none\"/>\n",
              "    <path d=\"M18.56 5.44l.94 2.06.94-2.06 2.06-.94-2.06-.94-.94-2.06-.94 2.06-2.06.94zm-11 1L8.5 8.5l.94-2.06 2.06-.94-2.06-.94L8.5 2.5l-.94 2.06-2.06.94zm10 10l.94 2.06.94-2.06 2.06-.94-2.06-.94-.94-2.06-.94 2.06-2.06.94z\"/><path d=\"M17.41 7.96l-1.37-1.37c-.4-.4-.92-.59-1.43-.59-.52 0-1.04.2-1.43.59L10.3 9.45l-7.72 7.72c-.78.78-.78 2.05 0 2.83L4 21.41c.39.39.9.59 1.41.59.51 0 1.02-.2 1.41-.59l7.78-7.78 2.81-2.81c.8-.78.8-2.07 0-2.86zM5.41 20L4 18.59l7.72-7.72 1.47 1.35L5.41 20z\"/>\n",
              "  </svg>\n",
              "      </button>\n",
              "      \n",
              "  <style>\n",
              "    .colab-df-container {\n",
              "      display:flex;\n",
              "      flex-wrap:wrap;\n",
              "      gap: 12px;\n",
              "    }\n",
              "\n",
              "    .colab-df-convert {\n",
              "      background-color: #E8F0FE;\n",
              "      border: none;\n",
              "      border-radius: 50%;\n",
              "      cursor: pointer;\n",
              "      display: none;\n",
              "      fill: #1967D2;\n",
              "      height: 32px;\n",
              "      padding: 0 0 0 0;\n",
              "      width: 32px;\n",
              "    }\n",
              "\n",
              "    .colab-df-convert:hover {\n",
              "      background-color: #E2EBFA;\n",
              "      box-shadow: 0px 1px 2px rgba(60, 64, 67, 0.3), 0px 1px 3px 1px rgba(60, 64, 67, 0.15);\n",
              "      fill: #174EA6;\n",
              "    }\n",
              "\n",
              "    [theme=dark] .colab-df-convert {\n",
              "      background-color: #3B4455;\n",
              "      fill: #D2E3FC;\n",
              "    }\n",
              "\n",
              "    [theme=dark] .colab-df-convert:hover {\n",
              "      background-color: #434B5C;\n",
              "      box-shadow: 0px 1px 3px 1px rgba(0, 0, 0, 0.15);\n",
              "      filter: drop-shadow(0px 1px 2px rgba(0, 0, 0, 0.3));\n",
              "      fill: #FFFFFF;\n",
              "    }\n",
              "  </style>\n",
              "\n",
              "      <script>\n",
              "        const buttonEl =\n",
              "          document.querySelector('#df-f49aad2e-496f-43ca-89ec-bed6c9cf37c5 button.colab-df-convert');\n",
              "        buttonEl.style.display =\n",
              "          google.colab.kernel.accessAllowed ? 'block' : 'none';\n",
              "\n",
              "        async function convertToInteractive(key) {\n",
              "          const element = document.querySelector('#df-f49aad2e-496f-43ca-89ec-bed6c9cf37c5');\n",
              "          const dataTable =\n",
              "            await google.colab.kernel.invokeFunction('convertToInteractive',\n",
              "                                                     [key], {});\n",
              "          if (!dataTable) return;\n",
              "\n",
              "          const docLinkHtml = 'Like what you see? Visit the ' +\n",
              "            '<a target=\"_blank\" href=https://colab.research.google.com/notebooks/data_table.ipynb>data table notebook</a>'\n",
              "            + ' to learn more about interactive tables.';\n",
              "          element.innerHTML = '';\n",
              "          dataTable['output_type'] = 'display_data';\n",
              "          await google.colab.output.renderOutput(dataTable, element);\n",
              "          const docLink = document.createElement('div');\n",
              "          docLink.innerHTML = docLinkHtml;\n",
              "          element.appendChild(docLink);\n",
              "        }\n",
              "      </script>\n",
              "    </div>\n",
              "  </div>\n",
              "  "
            ]
          },
          "metadata": {},
          "execution_count": 25
        }
      ]
    },
    {
      "cell_type": "code",
      "source": [
        "# dff.head(10)"
      ],
      "metadata": {
        "id": "Nu-RbIeZQfLA"
      },
      "execution_count": null,
      "outputs": []
    },
    {
      "cell_type": "code",
      "source": [
        "dff.shape"
      ],
      "metadata": {
        "colab": {
          "base_uri": "https://localhost:8080/"
        },
        "id": "4XkbFvadQoZf",
        "outputId": "d6d5cccf-2a2b-4b80-978e-305892734869"
      },
      "execution_count": null,
      "outputs": [
        {
          "output_type": "execute_result",
          "data": {
            "text/plain": [
              "(1818, 6)"
            ]
          },
          "metadata": {},
          "execution_count": 52
        }
      ]
    },
    {
      "cell_type": "code",
      "source": [
        "y.shape"
      ],
      "metadata": {
        "colab": {
          "base_uri": "https://localhost:8080/"
        },
        "id": "-iXKUdJ1QyDP",
        "outputId": "e2bc8f5a-946c-4e67-f961-4527fc022a9f"
      },
      "execution_count": null,
      "outputs": [
        {
          "output_type": "execute_result",
          "data": {
            "text/plain": [
              "(1818,)"
            ]
          },
          "metadata": {},
          "execution_count": 27
        }
      ]
    },
    {
      "cell_type": "code",
      "source": [
        "x = dff.values #change dataframe to numpy arrays"
      ],
      "metadata": {
        "id": "4SzPYDM5Q60p"
      },
      "execution_count": null,
      "outputs": []
    },
    {
      "cell_type": "code",
      "source": [
        "x.shape"
      ],
      "metadata": {
        "colab": {
          "base_uri": "https://localhost:8080/"
        },
        "id": "WHB0cxaRRBfY",
        "outputId": "1c895769-848c-4f82-b960-04be37033dac"
      },
      "execution_count": null,
      "outputs": [
        {
          "output_type": "execute_result",
          "data": {
            "text/plain": [
              "(1818, 6)"
            ]
          },
          "metadata": {},
          "execution_count": 29
        }
      ]
    },
    {
      "cell_type": "code",
      "source": [
        "data_y = pd.get_dummies(y).values"
      ],
      "metadata": {
        "id": "PdfZJQ5tRZZX"
      },
      "execution_count": null,
      "outputs": []
    },
    {
      "cell_type": "code",
      "source": [
        "data_y.shape"
      ],
      "metadata": {
        "colab": {
          "base_uri": "https://localhost:8080/"
        },
        "id": "Txehnmt3Riwo",
        "outputId": "0a13693f-2cd7-40d2-a651-e674639c464a"
      },
      "execution_count": null,
      "outputs": [
        {
          "output_type": "execute_result",
          "data": {
            "text/plain": [
              "(1818, 4)"
            ]
          },
          "metadata": {},
          "execution_count": 31
        }
      ]
    },
    {
      "cell_type": "code",
      "source": [
        "pd.get_dummies(y)"
      ],
      "metadata": {
        "colab": {
          "base_uri": "https://localhost:8080/",
          "height": 424
        },
        "id": "o6BWP2dItXic",
        "outputId": "08e92674-5f6a-4d95-e091-8270ce826c7e"
      },
      "execution_count": null,
      "outputs": [
        {
          "output_type": "execute_result",
          "data": {
            "text/plain": [
              "      CPCC  FPCC  TMCC  UPCC\n",
              "0        1     0     0     0\n",
              "1        1     0     0     0\n",
              "2        1     0     0     0\n",
              "3        1     0     0     0\n",
              "4        1     0     0     0\n",
              "...    ...   ...   ...   ...\n",
              "1813     0     0     0     1\n",
              "1814     0     0     0     1\n",
              "1815     0     0     0     1\n",
              "1816     0     0     0     1\n",
              "1817     0     0     0     1\n",
              "\n",
              "[1818 rows x 4 columns]"
            ],
            "text/html": [
              "\n",
              "  <div id=\"df-62a0aa88-db78-4c84-abce-566bccdec4e7\">\n",
              "    <div class=\"colab-df-container\">\n",
              "      <div>\n",
              "<style scoped>\n",
              "    .dataframe tbody tr th:only-of-type {\n",
              "        vertical-align: middle;\n",
              "    }\n",
              "\n",
              "    .dataframe tbody tr th {\n",
              "        vertical-align: top;\n",
              "    }\n",
              "\n",
              "    .dataframe thead th {\n",
              "        text-align: right;\n",
              "    }\n",
              "</style>\n",
              "<table border=\"1\" class=\"dataframe\">\n",
              "  <thead>\n",
              "    <tr style=\"text-align: right;\">\n",
              "      <th></th>\n",
              "      <th>CPCC</th>\n",
              "      <th>FPCC</th>\n",
              "      <th>TMCC</th>\n",
              "      <th>UPCC</th>\n",
              "    </tr>\n",
              "  </thead>\n",
              "  <tbody>\n",
              "    <tr>\n",
              "      <th>0</th>\n",
              "      <td>1</td>\n",
              "      <td>0</td>\n",
              "      <td>0</td>\n",
              "      <td>0</td>\n",
              "    </tr>\n",
              "    <tr>\n",
              "      <th>1</th>\n",
              "      <td>1</td>\n",
              "      <td>0</td>\n",
              "      <td>0</td>\n",
              "      <td>0</td>\n",
              "    </tr>\n",
              "    <tr>\n",
              "      <th>2</th>\n",
              "      <td>1</td>\n",
              "      <td>0</td>\n",
              "      <td>0</td>\n",
              "      <td>0</td>\n",
              "    </tr>\n",
              "    <tr>\n",
              "      <th>3</th>\n",
              "      <td>1</td>\n",
              "      <td>0</td>\n",
              "      <td>0</td>\n",
              "      <td>0</td>\n",
              "    </tr>\n",
              "    <tr>\n",
              "      <th>4</th>\n",
              "      <td>1</td>\n",
              "      <td>0</td>\n",
              "      <td>0</td>\n",
              "      <td>0</td>\n",
              "    </tr>\n",
              "    <tr>\n",
              "      <th>...</th>\n",
              "      <td>...</td>\n",
              "      <td>...</td>\n",
              "      <td>...</td>\n",
              "      <td>...</td>\n",
              "    </tr>\n",
              "    <tr>\n",
              "      <th>1813</th>\n",
              "      <td>0</td>\n",
              "      <td>0</td>\n",
              "      <td>0</td>\n",
              "      <td>1</td>\n",
              "    </tr>\n",
              "    <tr>\n",
              "      <th>1814</th>\n",
              "      <td>0</td>\n",
              "      <td>0</td>\n",
              "      <td>0</td>\n",
              "      <td>1</td>\n",
              "    </tr>\n",
              "    <tr>\n",
              "      <th>1815</th>\n",
              "      <td>0</td>\n",
              "      <td>0</td>\n",
              "      <td>0</td>\n",
              "      <td>1</td>\n",
              "    </tr>\n",
              "    <tr>\n",
              "      <th>1816</th>\n",
              "      <td>0</td>\n",
              "      <td>0</td>\n",
              "      <td>0</td>\n",
              "      <td>1</td>\n",
              "    </tr>\n",
              "    <tr>\n",
              "      <th>1817</th>\n",
              "      <td>0</td>\n",
              "      <td>0</td>\n",
              "      <td>0</td>\n",
              "      <td>1</td>\n",
              "    </tr>\n",
              "  </tbody>\n",
              "</table>\n",
              "<p>1818 rows × 4 columns</p>\n",
              "</div>\n",
              "      <button class=\"colab-df-convert\" onclick=\"convertToInteractive('df-62a0aa88-db78-4c84-abce-566bccdec4e7')\"\n",
              "              title=\"Convert this dataframe to an interactive table.\"\n",
              "              style=\"display:none;\">\n",
              "        \n",
              "  <svg xmlns=\"http://www.w3.org/2000/svg\" height=\"24px\"viewBox=\"0 0 24 24\"\n",
              "       width=\"24px\">\n",
              "    <path d=\"M0 0h24v24H0V0z\" fill=\"none\"/>\n",
              "    <path d=\"M18.56 5.44l.94 2.06.94-2.06 2.06-.94-2.06-.94-.94-2.06-.94 2.06-2.06.94zm-11 1L8.5 8.5l.94-2.06 2.06-.94-2.06-.94L8.5 2.5l-.94 2.06-2.06.94zm10 10l.94 2.06.94-2.06 2.06-.94-2.06-.94-.94-2.06-.94 2.06-2.06.94z\"/><path d=\"M17.41 7.96l-1.37-1.37c-.4-.4-.92-.59-1.43-.59-.52 0-1.04.2-1.43.59L10.3 9.45l-7.72 7.72c-.78.78-.78 2.05 0 2.83L4 21.41c.39.39.9.59 1.41.59.51 0 1.02-.2 1.41-.59l7.78-7.78 2.81-2.81c.8-.78.8-2.07 0-2.86zM5.41 20L4 18.59l7.72-7.72 1.47 1.35L5.41 20z\"/>\n",
              "  </svg>\n",
              "      </button>\n",
              "      \n",
              "  <style>\n",
              "    .colab-df-container {\n",
              "      display:flex;\n",
              "      flex-wrap:wrap;\n",
              "      gap: 12px;\n",
              "    }\n",
              "\n",
              "    .colab-df-convert {\n",
              "      background-color: #E8F0FE;\n",
              "      border: none;\n",
              "      border-radius: 50%;\n",
              "      cursor: pointer;\n",
              "      display: none;\n",
              "      fill: #1967D2;\n",
              "      height: 32px;\n",
              "      padding: 0 0 0 0;\n",
              "      width: 32px;\n",
              "    }\n",
              "\n",
              "    .colab-df-convert:hover {\n",
              "      background-color: #E2EBFA;\n",
              "      box-shadow: 0px 1px 2px rgba(60, 64, 67, 0.3), 0px 1px 3px 1px rgba(60, 64, 67, 0.15);\n",
              "      fill: #174EA6;\n",
              "    }\n",
              "\n",
              "    [theme=dark] .colab-df-convert {\n",
              "      background-color: #3B4455;\n",
              "      fill: #D2E3FC;\n",
              "    }\n",
              "\n",
              "    [theme=dark] .colab-df-convert:hover {\n",
              "      background-color: #434B5C;\n",
              "      box-shadow: 0px 1px 3px 1px rgba(0, 0, 0, 0.15);\n",
              "      filter: drop-shadow(0px 1px 2px rgba(0, 0, 0, 0.3));\n",
              "      fill: #FFFFFF;\n",
              "    }\n",
              "  </style>\n",
              "\n",
              "      <script>\n",
              "        const buttonEl =\n",
              "          document.querySelector('#df-62a0aa88-db78-4c84-abce-566bccdec4e7 button.colab-df-convert');\n",
              "        buttonEl.style.display =\n",
              "          google.colab.kernel.accessAllowed ? 'block' : 'none';\n",
              "\n",
              "        async function convertToInteractive(key) {\n",
              "          const element = document.querySelector('#df-62a0aa88-db78-4c84-abce-566bccdec4e7');\n",
              "          const dataTable =\n",
              "            await google.colab.kernel.invokeFunction('convertToInteractive',\n",
              "                                                     [key], {});\n",
              "          if (!dataTable) return;\n",
              "\n",
              "          const docLinkHtml = 'Like what you see? Visit the ' +\n",
              "            '<a target=\"_blank\" href=https://colab.research.google.com/notebooks/data_table.ipynb>data table notebook</a>'\n",
              "            + ' to learn more about interactive tables.';\n",
              "          element.innerHTML = '';\n",
              "          dataTable['output_type'] = 'display_data';\n",
              "          await google.colab.output.renderOutput(dataTable, element);\n",
              "          const docLink = document.createElement('div');\n",
              "          docLink.innerHTML = docLinkHtml;\n",
              "          element.appendChild(docLink);\n",
              "        }\n",
              "      </script>\n",
              "    </div>\n",
              "  </div>\n",
              "  "
            ]
          },
          "metadata": {},
          "execution_count": 32
        }
      ]
    },
    {
      "cell_type": "code",
      "source": [
        "from sklearn.model_selection import train_test_split"
      ],
      "metadata": {
        "id": "D-PxF6iSRtM3"
      },
      "execution_count": null,
      "outputs": []
    },
    {
      "cell_type": "code",
      "source": [
        "x_train, x_test, y_train, y_test = train_test_split(x, data_y, test_size=0.2, random_state=42)"
      ],
      "metadata": {
        "id": "_HaX43QfhdBe"
      },
      "execution_count": null,
      "outputs": []
    },
    {
      "cell_type": "code",
      "source": [
        "x_train.shape"
      ],
      "metadata": {
        "colab": {
          "base_uri": "https://localhost:8080/"
        },
        "id": "eSNXR4alh-Id",
        "outputId": "9d50b4be-9192-4e2f-a3bf-f9288d69c9f5"
      },
      "execution_count": null,
      "outputs": [
        {
          "output_type": "execute_result",
          "data": {
            "text/plain": [
              "(1454, 6)"
            ]
          },
          "metadata": {},
          "execution_count": 35
        }
      ]
    },
    {
      "cell_type": "code",
      "source": [
        "x_test.shape"
      ],
      "metadata": {
        "colab": {
          "base_uri": "https://localhost:8080/"
        },
        "id": "U9EOk2fviDYV",
        "outputId": "fb83bef3-85ef-4a27-f451-1746b57bf5d3"
      },
      "execution_count": null,
      "outputs": [
        {
          "output_type": "execute_result",
          "data": {
            "text/plain": [
              "(364, 6)"
            ]
          },
          "metadata": {},
          "execution_count": 36
        }
      ]
    },
    {
      "cell_type": "code",
      "source": [
        "y_test.shape"
      ],
      "metadata": {
        "colab": {
          "base_uri": "https://localhost:8080/"
        },
        "id": "UmUHKwPptsGr",
        "outputId": "c25fa997-20e6-4919-a123-87681ce125bc"
      },
      "execution_count": null,
      "outputs": [
        {
          "output_type": "execute_result",
          "data": {
            "text/plain": [
              "(364, 4)"
            ]
          },
          "metadata": {},
          "execution_count": 37
        }
      ]
    },
    {
      "cell_type": "code",
      "source": [
        "y_train.shape"
      ],
      "metadata": {
        "colab": {
          "base_uri": "https://localhost:8080/"
        },
        "id": "1f4eqvHwtv4M",
        "outputId": "b97f2577-ea21-4ec4-95bc-c8f6426d10b9"
      },
      "execution_count": null,
      "outputs": [
        {
          "output_type": "execute_result",
          "data": {
            "text/plain": [
              "(1454, 4)"
            ]
          },
          "metadata": {},
          "execution_count": 38
        }
      ]
    },
    {
      "cell_type": "markdown",
      "source": [
        "KNN Classifier"
      ],
      "metadata": {
        "id": "2d2Y-J5MdY9r"
      }
    },
    {
      "cell_type": "code",
      "source": [
        "from sklearn.neighbors import KNeighborsClassifier\n",
        "knn_clf = KNeighborsClassifier(n_neighbors=7)\n",
        "knn_clf.fit(x_train, y_train)\n",
        "knn_clf.score(x_test, y_test)"
      ],
      "metadata": {
        "colab": {
          "base_uri": "https://localhost:8080/"
        },
        "id": "J12kt8yJdbA2",
        "outputId": "0ee24a1c-9e5d-4e34-981b-f0da66b49954"
      },
      "execution_count": null,
      "outputs": [
        {
          "output_type": "execute_result",
          "data": {
            "text/plain": [
              "0.9148351648351648"
            ]
          },
          "metadata": {},
          "execution_count": 53
        }
      ]
    },
    {
      "cell_type": "code",
      "source": [
        "y_pred = knn_clf.predict(x_test)\n",
        "from sklearn.metrics import classification_report\n",
        "print(classification_report(y_test, y_pred))"
      ],
      "metadata": {
        "colab": {
          "base_uri": "https://localhost:8080/"
        },
        "id": "wmDHBA7JdfnT",
        "outputId": "15cd31d4-7f50-4f21-86d1-75dd13c85236"
      },
      "execution_count": null,
      "outputs": [
        {
          "output_type": "stream",
          "name": "stdout",
          "text": [
            "              precision    recall  f1-score   support\n",
            "\n",
            "           0       0.89      0.89      0.89       105\n",
            "           1       0.99      0.98      0.99       107\n",
            "           2       1.00      0.89      0.94        71\n",
            "           3       0.87      0.89      0.88        81\n",
            "\n",
            "   micro avg       0.94      0.91      0.92       364\n",
            "   macro avg       0.94      0.91      0.92       364\n",
            "weighted avg       0.94      0.91      0.93       364\n",
            " samples avg       0.91      0.91      0.91       364\n",
            "\n"
          ]
        },
        {
          "output_type": "stream",
          "name": "stderr",
          "text": [
            "/usr/local/lib/python3.7/dist-packages/sklearn/metrics/_classification.py:1318: UndefinedMetricWarning: Precision and F-score are ill-defined and being set to 0.0 in samples with no predicted labels. Use `zero_division` parameter to control this behavior.\n",
            "  _warn_prf(average, modifier, msg_start, len(result))\n"
          ]
        }
      ]
    },
    {
      "cell_type": "code",
      "source": [
        "\n",
        "new_data=np.array([0, 1, 0, 0, 1, 1])\n",
        "new_data.shape[0]\n",
        "data=new_data.reshape(1,6)"
      ],
      "metadata": {
        "id": "iHmsOfHedjqL"
      },
      "execution_count": null,
      "outputs": []
    },
    {
      "cell_type": "code",
      "source": [
        "data.shape"
      ],
      "metadata": {
        "colab": {
          "base_uri": "https://localhost:8080/"
        },
        "id": "oNVtWgvOeswM",
        "outputId": "17730ec5-5e0a-46ed-fee9-edc802d04eda"
      },
      "execution_count": null,
      "outputs": [
        {
          "output_type": "execute_result",
          "data": {
            "text/plain": [
              "(1, 6)"
            ]
          },
          "metadata": {},
          "execution_count": 57
        }
      ]
    },
    {
      "cell_type": "code",
      "source": [
        "knn_clf.predict(data)"
      ],
      "metadata": {
        "colab": {
          "base_uri": "https://localhost:8080/"
        },
        "id": "1b_rQT-idplz",
        "outputId": "abdf810e-51b5-4477-a3e5-e24e0f09b2ec"
      },
      "execution_count": null,
      "outputs": [
        {
          "output_type": "execute_result",
          "data": {
            "text/plain": [
              "array([[1, 0, 0, 0]], dtype=uint8)"
            ]
          },
          "metadata": {},
          "execution_count": 58
        }
      ]
    },
    {
      "cell_type": "code",
      "source": [
        "print(y_pred)"
      ],
      "metadata": {
        "colab": {
          "base_uri": "https://localhost:8080/"
        },
        "id": "8USbUNWadtmy",
        "outputId": "d365af0b-c8d6-4e12-974a-25fe1fa397b1"
      },
      "execution_count": null,
      "outputs": [
        {
          "output_type": "stream",
          "name": "stdout",
          "text": [
            "[[0 0 0 1]\n",
            " [0 1 0 0]\n",
            " [1 0 0 0]\n",
            " ...\n",
            " [1 0 0 0]\n",
            " [0 0 0 1]\n",
            " [1 0 0 0]]\n"
          ]
        }
      ]
    },
    {
      "cell_type": "code",
      "source": [
        "from sklearn.metrics import confusion_matrix\n",
        "confusion_matrix(y_test.argmax(axis=1), y_pred.argmax(axis=1))"
      ],
      "metadata": {
        "colab": {
          "base_uri": "https://localhost:8080/"
        },
        "id": "LZldYGrknsGa",
        "outputId": "cd99ca6f-0f70-4c3d-8370-f4209a2ce638"
      },
      "execution_count": null,
      "outputs": [
        {
          "output_type": "execute_result",
          "data": {
            "text/plain": [
              "array([[ 97,   1,   0,   7],\n",
              "       [  2, 105,   0,   0],\n",
              "       [  4,   0,  63,   4],\n",
              "       [  9,   0,   0,  72]])"
            ]
          },
          "metadata": {},
          "execution_count": 62
        }
      ]
    },
    {
      "cell_type": "code",
      "source": [
        "from sklearn.metrics import confusion_matrix,ConfusionMatrixDisplay\n",
        "cm = confusion_matrix(y_test.argmax(axis=1), y_pred.argmax(axis=1))\n",
        "cmd = ConfusionMatrixDisplay(cm,display_labels=['CPCC','FPCC','TMCC','UPCC'])\n",
        "cmd.plot()"
      ],
      "metadata": {
        "colab": {
          "base_uri": "https://localhost:8080/",
          "height": 296
        },
        "id": "jPdyFpfFneu6",
        "outputId": "2366983e-a7bc-4f52-9e4e-1b7f67dc969d"
      },
      "execution_count": null,
      "outputs": [
        {
          "output_type": "execute_result",
          "data": {
            "text/plain": [
              "<sklearn.metrics._plot.confusion_matrix.ConfusionMatrixDisplay at 0x7f40b9b07a90>"
            ]
          },
          "metadata": {},
          "execution_count": 63
        },
        {
          "output_type": "display_data",
          "data": {
            "text/plain": [
              "<Figure size 432x288 with 2 Axes>"
            ],
            "image/png": "[encoded data removed]"
          },
          "metadata": {
            "needs_background": "light"
          }
        }
      ]
    },
    {
      "cell_type": "markdown",
      "source": [
        "DT"
      ],
      "metadata": {
        "id": "Hzx3yyzMpLi0"
      }
    },
    {
      "cell_type": "code",
      "source": [
        "from sklearn import tree\n",
        "dt_clf = tree.DecisionTreeClassifier(max_depth=5)\n",
        "dt_clf.fit(x_train, y_train)\n",
        "dt_clf.score(x_test, y_test)\n",
        "y_pred = dt_clf.predict(x_test)\n",
        "dt_clf.score(x_test, y_test)"
      ],
      "metadata": {
        "colab": {
          "base_uri": "https://localhost:8080/"
        },
        "id": "zQAhxDlWoGl6",
        "outputId": "225a7065-6b5a-4829-86fe-b1c88431f2fb"
      },
      "execution_count": null,
      "outputs": [
        {
          "output_type": "execute_result",
          "data": {
            "text/plain": [
              "0.9120879120879121"
            ]
          },
          "metadata": {},
          "execution_count": 64
        }
      ]
    },
    {
      "cell_type": "code",
      "source": [
        "dt_clf.predict(x_test)"
      ],
      "metadata": {
        "colab": {
          "base_uri": "https://localhost:8080/"
        },
        "id": "26zo9qkFoMqK",
        "outputId": "f623bca8-b8fe-4893-86b3-b25a1de5b403"
      },
      "execution_count": null,
      "outputs": [
        {
          "output_type": "execute_result",
          "data": {
            "text/plain": [
              "array([[0, 0, 0, 1],\n",
              "       [0, 1, 0, 0],\n",
              "       [1, 0, 0, 0],\n",
              "       ...,\n",
              "       [1, 0, 0, 0],\n",
              "       [0, 0, 0, 1],\n",
              "       [1, 0, 0, 0]], dtype=uint8)"
            ]
          },
          "metadata": {},
          "execution_count": 65
        }
      ]
    },
    {
      "cell_type": "code",
      "source": [
        "y_pred = dt_clf.predict(x_test)"
      ],
      "metadata": {
        "id": "ur7XNXOUoP6J"
      },
      "execution_count": null,
      "outputs": []
    },
    {
      "cell_type": "code",
      "source": [
        "# from collections import Counter\n",
        "# l = y_pred\n",
        "# l_sorted = Counter(l).most_common()\n",
        "# l_sorted"
      ],
      "metadata": {
        "id": "gYJoBTiQoTT6"
      },
      "execution_count": null,
      "outputs": []
    },
    {
      "cell_type": "code",
      "source": [
        "y_pred = dt_clf.predict(x_test)\n",
        "from sklearn.metrics import classification_report\n",
        "print(classification_report(y_test, y_pred))"
      ],
      "metadata": {
        "colab": {
          "base_uri": "https://localhost:8080/"
        },
        "id": "2b_kzuWioX8p",
        "outputId": "6500a380-ae84-4138-bb8e-b8a6ed726032"
      },
      "execution_count": null,
      "outputs": [
        {
          "output_type": "stream",
          "name": "stdout",
          "text": [
            "              precision    recall  f1-score   support\n",
            "\n",
            "           0       0.89      0.88      0.88       105\n",
            "           1       0.98      0.98      0.98       107\n",
            "           2       1.00      0.89      0.94        71\n",
            "           3       0.88      0.89      0.88        81\n",
            "\n",
            "   micro avg       0.94      0.91      0.92       364\n",
            "   macro avg       0.94      0.91      0.92       364\n",
            "weighted avg       0.94      0.91      0.92       364\n",
            " samples avg       0.91      0.91      0.91       364\n",
            "\n"
          ]
        },
        {
          "output_type": "stream",
          "name": "stderr",
          "text": [
            "/usr/local/lib/python3.7/dist-packages/sklearn/metrics/_classification.py:1318: UndefinedMetricWarning: Precision and F-score are ill-defined and being set to 0.0 in samples with no predicted labels. Use `zero_division` parameter to control this behavior.\n",
            "  _warn_prf(average, modifier, msg_start, len(result))\n"
          ]
        }
      ]
    },
    {
      "cell_type": "code",
      "source": [
        "from sklearn.metrics import confusion_matrix\n",
        "confusion_matrix(y_test.argmax(axis=1), y_pred.argmax(axis=1))"
      ],
      "metadata": {
        "colab": {
          "base_uri": "https://localhost:8080/"
        },
        "id": "dl8G69t9obW3",
        "outputId": "46e99eb1-da9c-40b2-9c66-68a73d2812b9"
      },
      "execution_count": null,
      "outputs": [
        {
          "output_type": "execute_result",
          "data": {
            "text/plain": [
              "array([[ 97,   2,   0,   6],\n",
              "       [  2, 105,   0,   0],\n",
              "       [  4,   0,  63,   4],\n",
              "       [  9,   0,   0,  72]])"
            ]
          },
          "metadata": {},
          "execution_count": 69
        }
      ]
    },
    {
      "cell_type": "code",
      "source": [
        "y=newdf['Class']\n",
        "y_class = df.Class.map({'CPCC':0, 'FPCC':1, 'TMCC':2, 'UPCC':3})\n",
        "y.shape"
      ],
      "metadata": {
        "colab": {
          "base_uri": "https://localhost:8080/"
        },
        "id": "n2JhQsjqojkj",
        "outputId": "e79df9f9-b046-4495-d2fa-38f3aa987912"
      },
      "execution_count": null,
      "outputs": [
        {
          "output_type": "execute_result",
          "data": {
            "text/plain": [
              "(1818,)"
            ]
          },
          "metadata": {},
          "execution_count": 70
        }
      ]
    },
    {
      "cell_type": "code",
      "source": [
        "x.shape"
      ],
      "metadata": {
        "colab": {
          "base_uri": "https://localhost:8080/"
        },
        "id": "7lI5O540opPR",
        "outputId": "4ccd3431-85dc-49f6-b15b-91b00d02a77d"
      },
      "execution_count": null,
      "outputs": [
        {
          "output_type": "execute_result",
          "data": {
            "text/plain": [
              "(1818, 6)"
            ]
          },
          "metadata": {},
          "execution_count": 71
        }
      ]
    },
    {
      "cell_type": "code",
      "source": [
        "x = dff.values\n",
        "yy =y_class.values"
      ],
      "metadata": {
        "id": "TLeRsP0-oswR"
      },
      "execution_count": null,
      "outputs": []
    },
    {
      "cell_type": "code",
      "source": [
        "from sklearn.metrics import confusion_matrix,ConfusionMatrixDisplay\n",
        "cm = confusion_matrix(y_test, y_pred)\n",
        "cmd = ConfusionMatrixDisplay(cm,display_labels=['CPCC','FPCC','TMCC','UPCC'])\n",
        "cmd.plot()"
      ],
      "metadata": {
        "colab": {
          "base_uri": "https://localhost:8080/",
          "height": 296
        },
        "id": "dozi3XO5pQiZ",
        "outputId": "eeff9696-75c3-476e-802e-5901a4a5213a"
      },
      "execution_count": null,
      "outputs": [
        {
          "output_type": "execute_result",
          "data": {
            "text/plain": [
              "<sklearn.metrics._plot.confusion_matrix.ConfusionMatrixDisplay at 0x7f40b9690c90>"
            ]
          },
          "metadata": {},
          "execution_count": 79
        },
        {
          "output_type": "display_data",
          "data": {
            "text/plain": [
              "<Figure size 432x288 with 2 Axes>"
            ],
            "image/png": "[encoded data removed]"
          },
          "metadata": {
            "needs_background": "light"
          }
        }
      ]
    },
    {
      "cell_type": "markdown",
      "source": [
        "Train data for LR"
      ],
      "metadata": {
        "id": "1Veoi07upYmL"
      }
    },
    {
      "cell_type": "code",
      "source": [
        "from sklearn.model_selection import train_test_split\n",
        "x_train,x_test,y_train,y_test = train_test_split(x,yy,test_size=0.2,random_state=43)"
      ],
      "metadata": {
        "id": "lELUItrTowdy"
      },
      "execution_count": null,
      "outputs": []
    },
    {
      "cell_type": "markdown",
      "source": [
        "LogisticRegression"
      ],
      "metadata": {
        "id": "N7CJfoxHpbca"
      }
    },
    {
      "cell_type": "code",
      "source": [
        "from sklearn.linear_model import LogisticRegression\n",
        "lr_clf = LogisticRegression()\n",
        "lr_clf.fit(x_train, y_train)\n",
        "lr_clf.score(x_test, y_test)"
      ],
      "metadata": {
        "colab": {
          "base_uri": "https://localhost:8080/"
        },
        "id": "mOcfTcOwo17i",
        "outputId": "c59df8c2-efaf-48c3-b57f-c014585752f5"
      },
      "execution_count": null,
      "outputs": [
        {
          "output_type": "execute_result",
          "data": {
            "text/plain": [
              "0.8489010989010989"
            ]
          },
          "metadata": {},
          "execution_count": 74
        }
      ]
    },
    {
      "cell_type": "code",
      "source": [
        "lr_clf.predict(x_test)"
      ],
      "metadata": {
        "id": "PeiWsCxKo5QS"
      },
      "execution_count": null,
      "outputs": []
    },
    {
      "cell_type": "code",
      "source": [
        "y_pred = lr_clf.predict(x_test)\n",
        "print(y_pred)\n",
        "from sklearn.metrics import confusion_matrix\n",
        "confusion_matrix(y_test, y_pred)"
      ],
      "metadata": {
        "colab": {
          "base_uri": "https://localhost:8080/"
        },
        "id": "HKLbhooIo9pC",
        "outputId": "0015b685-b4aa-4a40-a95e-f865d2bb4266"
      },
      "execution_count": null,
      "outputs": [
        {
          "output_type": "stream",
          "name": "stdout",
          "text": [
            "[0 3 0 0 1 3 3 3 1 0 0 1 0 0 0 1 0 1 2 1 0 3 3 0 3 1 1 2 0 1 1 3 1 3 3 0 1\n",
            " 3 3 3 1 0 3 1 2 1 1 1 2 3 1 3 1 0 1 0 0 0 3 1 0 0 0 2 1 2 0 1 0 2 0 1 2 0\n",
            " 0 0 3 1 3 1 1 1 1 1 0 1 1 1 2 3 3 1 0 1 1 3 1 1 0 3 1 2 0 3 3 3 3 2 0 1 2\n",
            " 0 3 1 0 2 3 1 2 1 1 1 3 0 1 1 3 0 2 0 0 3 1 1 0 1 3 0 1 2 3 1 1 3 3 1 1 1\n",
            " 0 1 1 0 3 1 1 1 1 0 1 1 3 1 1 3 0 0 0 0 1 0 3 3 1 1 3 0 0 2 0 2 3 0 1 1 0\n",
            " 0 0 0 0 0 2 3 3 2 1 3 2 1 2 1 1 1 0 0 0 1 3 1 0 1 2 3 3 1 0 3 3 3 0 0 1 3\n",
            " 3 2 2 2 1 1 0 1 3 3 0 3 2 0 1 1 0 1 0 1 2 3 1 1 0 1 3 1 0 1 3 0 1 3 1 2 1\n",
            " 0 1 2 2 3 0 1 3 1 0 1 2 0 3 1 2 1 0 0 0 2 2 1 0 2 1 1 0 2 1 2 3 3 1 1 0 0\n",
            " 3 1 0 3 1 0 0 1 1 3 2 0 1 1 2 0 1 1 0 0 0 0 1 2 1 3 1 1 0 3 3 2 0 0 0 3 1\n",
            " 1 0 3 3 3 2 1 0 0 0 1 1 1 0 0 1 1 0 0 3 1 0 1 0 1 3 0 3 1 3 1]\n"
          ]
        },
        {
          "output_type": "execute_result",
          "data": {
            "text/plain": [
              "array([[ 75,   3,   0,   7],\n",
              "       [  3, 130,   0,   1],\n",
              "       [ 29,   0,  38,   6],\n",
              "       [  1,   0,   5,  66]])"
            ]
          },
          "metadata": {},
          "execution_count": 76
        }
      ]
    },
    {
      "cell_type": "code",
      "source": [
        "y_pred = lr_clf.predict(x_test)\n",
        "from sklearn.metrics import classification_report\n",
        "print(classification_report(y_test, y_pred))"
      ],
      "metadata": {
        "colab": {
          "base_uri": "https://localhost:8080/"
        },
        "id": "3UK2dwCzpCHa",
        "outputId": "7c3f5546-143f-47d1-cb9d-4b69fc2b44c8"
      },
      "execution_count": null,
      "outputs": [
        {
          "output_type": "stream",
          "name": "stdout",
          "text": [
            "              precision    recall  f1-score   support\n",
            "\n",
            "           0       0.69      0.88      0.78        85\n",
            "           1       0.98      0.97      0.97       134\n",
            "           2       0.88      0.52      0.66        73\n",
            "           3       0.82      0.92      0.87        72\n",
            "\n",
            "    accuracy                           0.85       364\n",
            "   macro avg       0.85      0.82      0.82       364\n",
            "weighted avg       0.86      0.85      0.84       364\n",
            "\n"
          ]
        }
      ]
    },
    {
      "cell_type": "code",
      "source": [
        "from sklearn.metrics import confusion_matrix,ConfusionMatrixDisplay\n",
        "cm = confusion_matrix(y_test, y_pred)\n",
        "cmd = ConfusionMatrixDisplay(cm,display_labels=['CPCC','FPCC','TMCC','UPCC'])\n",
        "cmd.plot()"
      ],
      "metadata": {
        "colab": {
          "base_uri": "https://localhost:8080/",
          "height": 296
        },
        "id": "f1vgjrM3pq9i",
        "outputId": "cd4a7953-a555-4756-c09d-f1e78b7122f1"
      },
      "execution_count": null,
      "outputs": [
        {
          "output_type": "execute_result",
          "data": {
            "text/plain": [
              "<sklearn.metrics._plot.confusion_matrix.ConfusionMatrixDisplay at 0x7f40b9579210>"
            ]
          },
          "metadata": {},
          "execution_count": 80
        },
        {
          "output_type": "display_data",
          "data": {
            "text/plain": [
              "<Figure size 432x288 with 2 Axes>"
            ],
            "image/png": "[encoded data removed]"
          },
          "metadata": {
            "needs_background": "light"
          }
        }
      ]
    },
    {
      "cell_type": "markdown",
      "source": [
        "SVM classifier"
      ],
      "metadata": {
        "id": "zNGs7CujqB8h"
      }
    },
    {
      "cell_type": "code",
      "source": [
        "from sklearn.svm import SVC\n",
        "sv_clf = SVC(probability=True, kernel='rbf')\n",
        "sv_clf.fit(x_test, y_test)\n",
        "sv_clf.score(x_test, y_test)"
      ],
      "metadata": {
        "colab": {
          "base_uri": "https://localhost:8080/"
        },
        "id": "rETcJsi_qEl-",
        "outputId": "6a6619fe-6e6c-41e3-f9e6-b789148d4f7f"
      },
      "execution_count": null,
      "outputs": [
        {
          "output_type": "execute_result",
          "data": {
            "text/plain": [
              "0.9505494505494505"
            ]
          },
          "metadata": {},
          "execution_count": 81
        }
      ]
    },
    {
      "cell_type": "code",
      "source": [
        "x_test.shape"
      ],
      "metadata": {
        "colab": {
          "base_uri": "https://localhost:8080/"
        },
        "id": "HUJ_92VqqHpp",
        "outputId": "f06f8f40-e8f2-46d8-a825-4373e8e1cd91"
      },
      "execution_count": null,
      "outputs": [
        {
          "output_type": "execute_result",
          "data": {
            "text/plain": [
              "(364, 6)"
            ]
          },
          "metadata": {},
          "execution_count": 82
        }
      ]
    },
    {
      "cell_type": "code",
      "source": [
        "sv_clf.predict(x_test)"
      ],
      "metadata": {
        "colab": {
          "base_uri": "https://localhost:8080/"
        },
        "id": "TFLxP2rnqMPk",
        "outputId": "50fc5cbf-ab2a-492a-bcfa-51f4676673c4"
      },
      "execution_count": null,
      "outputs": [
        {
          "output_type": "execute_result",
          "data": {
            "text/plain": [
              "array([0, 3, 0, 2, 1, 3, 3, 3, 1, 0, 0, 1, 0, 2, 0, 1, 0, 1, 2, 1, 0, 3,\n",
              "       3, 2, 3, 1, 1, 2, 0, 1, 1, 3, 1, 3, 3, 0, 1, 3, 3, 3, 1, 2, 3, 1,\n",
              "       2, 1, 1, 0, 2, 3, 1, 3, 1, 2, 1, 0, 0, 0, 3, 1, 0, 0, 0, 2, 1, 2,\n",
              "       2, 1, 0, 2, 2, 1, 2, 2, 0, 0, 3, 1, 3, 1, 1, 1, 1, 1, 0, 1, 1, 1,\n",
              "       2, 3, 3, 1, 0, 1, 1, 3, 1, 1, 0, 3, 1, 2, 0, 3, 3, 3, 3, 2, 0, 1,\n",
              "       2, 0, 3, 1, 2, 2, 3, 1, 3, 1, 1, 1, 3, 2, 0, 1, 3, 0, 2, 0, 0, 3,\n",
              "       1, 1, 2, 0, 3, 2, 1, 3, 3, 1, 1, 3, 3, 1, 1, 1, 0, 1, 1, 0, 3, 1,\n",
              "       1, 1, 1, 0, 1, 1, 3, 1, 1, 3, 0, 0, 0, 2, 1, 2, 3, 3, 1, 1, 3, 0,\n",
              "       0, 2, 0, 2, 3, 0, 1, 1, 0, 0, 0, 0, 0, 0, 2, 3, 3, 2, 1, 3, 3, 1,\n",
              "       3, 1, 1, 1, 0, 0, 0, 1, 3, 1, 2, 1, 2, 3, 3, 1, 0, 3, 3, 3, 2, 0,\n",
              "       1, 3, 3, 2, 2, 2, 1, 1, 1, 1, 3, 3, 0, 3, 3, 0, 1, 1, 0, 1, 0, 1,\n",
              "       2, 3, 1, 1, 2, 1, 3, 1, 0, 1, 3, 0, 1, 3, 1, 2, 1, 2, 1, 2, 2, 3,\n",
              "       0, 1, 3, 1, 1, 1, 2, 2, 3, 1, 2, 1, 0, 0, 0, 2, 2, 1, 0, 2, 1, 1,\n",
              "       0, 2, 1, 2, 3, 3, 1, 1, 0, 2, 3, 1, 0, 3, 1, 0, 2, 1, 1, 3, 3, 0,\n",
              "       1, 1, 2, 0, 1, 1, 0, 2, 0, 0, 1, 2, 1, 3, 1, 1, 0, 3, 3, 2, 2, 2,\n",
              "       2, 3, 1, 1, 2, 3, 3, 3, 2, 1, 0, 0, 0, 1, 1, 1, 0, 0, 1, 1, 0, 0,\n",
              "       3, 1, 2, 1, 0, 1, 3, 2, 3, 1, 3, 1])"
            ]
          },
          "metadata": {},
          "execution_count": 83
        }
      ]
    },
    {
      "cell_type": "code",
      "source": [
        "from collections import Counter\n",
        "l = sv_clf.predict(x_test)\n",
        "l_sorted = Counter(l).most_common()\n",
        "l_sorted"
      ],
      "metadata": {
        "colab": {
          "base_uri": "https://localhost:8080/"
        },
        "id": "5_FlPPdCqPiC",
        "outputId": "59026135-eaff-4111-f0ba-1ce082a4f5ee"
      },
      "execution_count": null,
      "outputs": [
        {
          "output_type": "execute_result",
          "data": {
            "text/plain": [
              "[(1, 132), (3, 86), (0, 81), (2, 65)]"
            ]
          },
          "metadata": {},
          "execution_count": 84
        }
      ]
    },
    {
      "cell_type": "code",
      "source": [
        "l_sorted = [i[0] for i in l_sorted]\n",
        "l_sorted"
      ],
      "metadata": {
        "colab": {
          "base_uri": "https://localhost:8080/"
        },
        "id": "aRYPNzyLqUfC",
        "outputId": "26ec4c7f-2e70-4a58-a8fa-3fa20165fb77"
      },
      "execution_count": null,
      "outputs": [
        {
          "output_type": "execute_result",
          "data": {
            "text/plain": [
              "[1, 3, 0, 2]"
            ]
          },
          "metadata": {},
          "execution_count": 85
        }
      ]
    },
    {
      "cell_type": "code",
      "source": [
        "y_pred = sv_clf.predict(x_test)\n",
        "from sklearn.metrics import confusion_matrix\n",
        "confusion_matrix(y_test, y_pred)"
      ],
      "metadata": {
        "colab": {
          "base_uri": "https://localhost:8080/"
        },
        "id": "VCrrX6g-qY3r",
        "outputId": "e9543200-7cec-4e46-e055-58e37da5014b"
      },
      "execution_count": null,
      "outputs": [
        {
          "output_type": "execute_result",
          "data": {
            "text/plain": [
              "array([[ 78,   0,   0,   7],\n",
              "       [  1, 132,   0,   1],\n",
              "       [  1,   0,  65,   7],\n",
              "       [  1,   0,   0,  71]])"
            ]
          },
          "metadata": {},
          "execution_count": 86
        }
      ]
    },
    {
      "cell_type": "code",
      "source": [
        "y_pred = sv_clf.predict(x_test)\n",
        "from sklearn.metrics import classification_report\n",
        "print(classification_report(y_test, y_pred))"
      ],
      "metadata": {
        "colab": {
          "base_uri": "https://localhost:8080/"
        },
        "id": "I9f1F15Gqahq",
        "outputId": "7bd63513-2396-4c9b-ab27-cb604a7fea3a"
      },
      "execution_count": null,
      "outputs": [
        {
          "output_type": "stream",
          "name": "stdout",
          "text": [
            "              precision    recall  f1-score   support\n",
            "\n",
            "           0       0.96      0.92      0.94        85\n",
            "           1       1.00      0.99      0.99       134\n",
            "           2       1.00      0.89      0.94        73\n",
            "           3       0.83      0.99      0.90        72\n",
            "\n",
            "    accuracy                           0.95       364\n",
            "   macro avg       0.95      0.94      0.94       364\n",
            "weighted avg       0.96      0.95      0.95       364\n",
            "\n"
          ]
        }
      ]
    },
    {
      "cell_type": "code",
      "source": [
        "from sklearn.metrics import confusion_matrix,ConfusionMatrixDisplay\n",
        "cm = confusion_matrix(y_test, y_pred)\n",
        "cmd = ConfusionMatrixDisplay(cm,display_labels=['CPCC','FPCC','TMCC','UPCC'])\n",
        "cmd.plot()"
      ],
      "metadata": {
        "colab": {
          "base_uri": "https://localhost:8080/",
          "height": 296
        },
        "id": "gZVMi4Y5qepM",
        "outputId": "8459efee-0dc7-44da-d7ee-3ae3ba9c99a7"
      },
      "execution_count": null,
      "outputs": [
        {
          "output_type": "execute_result",
          "data": {
            "text/plain": [
              "<sklearn.metrics._plot.confusion_matrix.ConfusionMatrixDisplay at 0x7f40b8e24f50>"
            ]
          },
          "metadata": {},
          "execution_count": 88
        },
        {
          "output_type": "display_data",
          "data": {
            "text/plain": [
              "<Figure size 432x288 with 2 Axes>"
            ],
            "image/png": "[encoded data removed]"
          },
          "metadata": {
            "needs_background": "light"
          }
        }
      ]
    },
    {
      "cell_type": "code",
      "source": [
        "import tensorflow as tf\n",
        "from tensorflow.keras.models import Sequential\n",
        "from tensorflow.keras.layers import Dense, Flatten, Dropout\n",
        "tf.keras.utils.plot_model"
      ],
      "metadata": {
        "colab": {
          "base_uri": "https://localhost:8080/"
        },
        "id": "mQ0zetcpiKXa",
        "outputId": "efc2574c-c831-45be-ca57-ce7b67708102"
      },
      "execution_count": null,
      "outputs": [
        {
          "output_type": "execute_result",
          "data": {
            "text/plain": [
              "<function keras.utils.vis_utils.plot_model>"
            ]
          },
          "metadata": {},
          "execution_count": 89
        }
      ]
    },
    {
      "cell_type": "code",
      "source": [
        "from tensorflow.python.keras.layers.core import Activation\n",
        "from tensorflow.keras.layers import Dense,Dropout;\n",
        "from tensorflow.keras.callbacks import EarlyStopping\n",
        "model = Sequential();\n",
        "\n",
        "model.add(Dense(5,activation='relu'))#input layer.\n",
        "model.add(Dense(10,activation='relu'))#hidden layer\n",
        "# model.add(Dense(12,activation='relu'))#hidden layer\n",
        "# model.add(Dropout(0.35))\n",
        "model.add(Dense(10,activation='relu'))#hidden layer\n",
        "model.add(Dense(4,activation='softmax'))#\n",
        "\n",
        "model.compile(optimizer='adam',loss='categorical_crossentropy',metrics=['accuracy'])"
      ],
      "metadata": {
        "id": "A5IqFAm3iPIx"
      },
      "execution_count": null,
      "outputs": []
    },
    {
      "cell_type": "code",
      "source": [
        "early_stop = EarlyStopping(monitor='val_loss',patience=12,verbose=1)"
      ],
      "metadata": {
        "id": "QFIWl_SwiU3y"
      },
      "execution_count": null,
      "outputs": []
    },
    {
      "cell_type": "code",
      "source": [
        "model.fit(x_train,y_train,validation_data=(x_test,y_test),callbacks=[early_stop],epochs=100)#training the model\n"
      ],
      "metadata": {
        "id": "wMLUOkD7icJR",
        "colab": {
          "base_uri": "https://localhost:8080/",
          "height": 328
        },
        "outputId": "3a835a82-ec64-49a2-c638-fcd56dd33e17"
      },
      "execution_count": null,
      "outputs": [
        {
          "output_type": "stream",
          "name": "stdout",
          "text": [
            "Epoch 1/100\n"
          ]
        },
        {
          "output_type": "error",
          "ename": "TypeError",
          "evalue": "ignored",
          "traceback": [
            "\u001b[0;31m---------------------------------------------------------------------------\u001b[0m",
            "\u001b[0;31mTypeError\u001b[0m                                 Traceback (most recent call last)",
            "\u001b[0;32m<ipython-input-106-8639fd433e1b>\u001b[0m in \u001b[0;36m<module>\u001b[0;34m()\u001b[0m\n\u001b[0;32m----> 1\u001b[0;31m \u001b[0mmodel\u001b[0m\u001b[0;34m.\u001b[0m\u001b[0mfit\u001b[0m\u001b[0;34m(\u001b[0m\u001b[0mx_train\u001b[0m\u001b[0;34m,\u001b[0m\u001b[0my_train\u001b[0m\u001b[0;34m,\u001b[0m\u001b[0mvalidation_data\u001b[0m\u001b[0;34m=\u001b[0m\u001b[0;34m(\u001b[0m\u001b[0mx_test\u001b[0m\u001b[0;34m,\u001b[0m\u001b[0my_test\u001b[0m\u001b[0;34m)\u001b[0m\u001b[0;34m,\u001b[0m\u001b[0mcallbacks\u001b[0m\u001b[0;34m=\u001b[0m\u001b[0;34m[\u001b[0m\u001b[0mearly_stop\u001b[0m\u001b[0;34m]\u001b[0m\u001b[0;34m,\u001b[0m\u001b[0mepochs\u001b[0m\u001b[0;34m=\u001b[0m\u001b[0;36m100\u001b[0m\u001b[0;34m)\u001b[0m\u001b[0;31m#training the model\u001b[0m\u001b[0;34m\u001b[0m\u001b[0;34m\u001b[0m\u001b[0m\n\u001b[0m",
            "\u001b[0;32m/usr/local/lib/python3.7/dist-packages/keras/utils/traceback_utils.py\u001b[0m in \u001b[0;36merror_handler\u001b[0;34m(*args, **kwargs)\u001b[0m\n\u001b[1;32m     65\u001b[0m     \u001b[0;32mexcept\u001b[0m \u001b[0mException\u001b[0m \u001b[0;32mas\u001b[0m \u001b[0me\u001b[0m\u001b[0;34m:\u001b[0m  \u001b[0;31m# pylint: disable=broad-except\u001b[0m\u001b[0;34m\u001b[0m\u001b[0;34m\u001b[0m\u001b[0m\n\u001b[1;32m     66\u001b[0m       \u001b[0mfiltered_tb\u001b[0m \u001b[0;34m=\u001b[0m \u001b[0m_process_traceback_frames\u001b[0m\u001b[0;34m(\u001b[0m\u001b[0me\u001b[0m\u001b[0;34m.\u001b[0m\u001b[0m__traceback__\u001b[0m\u001b[0;34m)\u001b[0m\u001b[0;34m\u001b[0m\u001b[0;34m\u001b[0m\u001b[0m\n\u001b[0;32m---> 67\u001b[0;31m       \u001b[0;32mraise\u001b[0m \u001b[0me\u001b[0m\u001b[0;34m.\u001b[0m\u001b[0mwith_traceback\u001b[0m\u001b[0;34m(\u001b[0m\u001b[0mfiltered_tb\u001b[0m\u001b[0;34m)\u001b[0m \u001b[0;32mfrom\u001b[0m \u001b[0;32mNone\u001b[0m\u001b[0;34m\u001b[0m\u001b[0;34m\u001b[0m\u001b[0m\n\u001b[0m\u001b[1;32m     68\u001b[0m     \u001b[0;32mfinally\u001b[0m\u001b[0;34m:\u001b[0m\u001b[0;34m\u001b[0m\u001b[0;34m\u001b[0m\u001b[0m\n\u001b[1;32m     69\u001b[0m       \u001b[0;32mdel\u001b[0m \u001b[0mfiltered_tb\u001b[0m\u001b[0;34m\u001b[0m\u001b[0;34m\u001b[0m\u001b[0m\n",
            "\u001b[0;32m/usr/local/lib/python3.7/dist-packages/tensorflow/python/eager/def_function.py\u001b[0m in \u001b[0;36m_call\u001b[0;34m(self, *args, **kwds)\u001b[0m\n\u001b[1;32m    945\u001b[0m       \u001b[0;31m# In this case we have created variables on the first call, so we run the\u001b[0m\u001b[0;34m\u001b[0m\u001b[0;34m\u001b[0m\u001b[0;34m\u001b[0m\u001b[0m\n\u001b[1;32m    946\u001b[0m       \u001b[0;31m# defunned version which is guaranteed to never create variables.\u001b[0m\u001b[0;34m\u001b[0m\u001b[0;34m\u001b[0m\u001b[0;34m\u001b[0m\u001b[0m\n\u001b[0;32m--> 947\u001b[0;31m       \u001b[0;32mreturn\u001b[0m \u001b[0mself\u001b[0m\u001b[0;34m.\u001b[0m\u001b[0m_stateless_fn\u001b[0m\u001b[0;34m(\u001b[0m\u001b[0;34m*\u001b[0m\u001b[0margs\u001b[0m\u001b[0;34m,\u001b[0m \u001b[0;34m**\u001b[0m\u001b[0mkwds\u001b[0m\u001b[0;34m)\u001b[0m  \u001b[0;31m# pylint: disable=not-callable\u001b[0m\u001b[0;34m\u001b[0m\u001b[0;34m\u001b[0m\u001b[0m\n\u001b[0m\u001b[1;32m    948\u001b[0m     \u001b[0;32melif\u001b[0m \u001b[0mself\u001b[0m\u001b[0;34m.\u001b[0m\u001b[0m_stateful_fn\u001b[0m \u001b[0;32mis\u001b[0m \u001b[0;32mnot\u001b[0m \u001b[0;32mNone\u001b[0m\u001b[0;34m:\u001b[0m\u001b[0;34m\u001b[0m\u001b[0;34m\u001b[0m\u001b[0m\n\u001b[1;32m    949\u001b[0m       \u001b[0;31m# Release the lock early so that multiple threads can perform the call\u001b[0m\u001b[0;34m\u001b[0m\u001b[0;34m\u001b[0m\u001b[0;34m\u001b[0m\u001b[0m\n",
            "\u001b[0;31mTypeError\u001b[0m: 'NoneType' object is not callable"
          ]
        }
      ]
    },
    {
      "cell_type": "code",
      "source": [
        "pd.DataFrame(model.history.history).plot()"
      ],
      "metadata": {
        "colab": {
          "base_uri": "https://localhost:8080/",
          "height": 283
        },
        "id": "edT5LIuJu03D",
        "outputId": "3b22fdb9-b1db-4c34-a41a-d15fd7ba651b"
      },
      "execution_count": null,
      "outputs": [
        {
          "output_type": "execute_result",
          "data": {
            "text/plain": [
              "<matplotlib.axes._subplots.AxesSubplot at 0x7f92812c3e90>"
            ]
          },
          "metadata": {},
          "execution_count": 57
        },
        {
          "output_type": "display_data",
          "data": {
            "text/plain": [
              "<Figure size 432x288 with 1 Axes>"
            ],
            "image/png": "[encoded data removed]"
          },
          "metadata": {
            "needs_background": "light"
          }
        }
      ]
    },
    {
      "cell_type": "code",
      "source": [
        "pd.DataFrame(model.history.history)[['accuracy','val_accuracy']].plot()"
      ],
      "metadata": {
        "colab": {
          "base_uri": "https://localhost:8080/",
          "height": 282
        },
        "id": "aay8DSTdvJH7",
        "outputId": "4958a151-495d-4da1-8a9d-c4ab1a2aa359"
      },
      "execution_count": null,
      "outputs": [
        {
          "output_type": "execute_result",
          "data": {
            "text/plain": [
              "<matplotlib.axes._subplots.AxesSubplot at 0x7f928628e990>"
            ]
          },
          "metadata": {},
          "execution_count": 58
        },
        {
          "output_type": "display_data",
          "data": {
            "text/plain": [
              "<Figure size 432x288 with 1 Axes>"
            ],
            "image/png": "[encoded data removed]"
          },
          "metadata": {
            "needs_background": "light"
          }
        }
      ]
    },
    {
      "cell_type": "code",
      "source": [
        "pd.DataFrame(model.history.history)[['loss','val_loss']].plot()"
      ],
      "metadata": {
        "colab": {
          "base_uri": "https://localhost:8080/",
          "height": 283
        },
        "id": "XkXCeFBFvQqL",
        "outputId": "6a1166a7-18d7-462c-eac4-c068d5fcc300"
      },
      "execution_count": null,
      "outputs": [
        {
          "output_type": "execute_result",
          "data": {
            "text/plain": [
              "<matplotlib.axes._subplots.AxesSubplot at 0x7f928670ca50>"
            ]
          },
          "metadata": {},
          "execution_count": 59
        },
        {
          "output_type": "display_data",
          "data": {
            "text/plain": [
              "<Figure size 432x288 with 1 Axes>"
            ],
            "image/png": "[encoded data removed]"
          },
          "metadata": {
            "needs_background": "light"
          }
        }
      ]
    },
    {
      "cell_type": "code",
      "source": [
        "predictions  = np.where(model.predict(x_test)>0.5,1,0)\n",
        "predictions"
      ],
      "metadata": {
        "colab": {
          "base_uri": "https://localhost:8080/"
        },
        "id": "_Z6IKBIzvYTz",
        "outputId": "f67151bc-dee9-468e-b0fa-0f5f7888de71"
      },
      "execution_count": null,
      "outputs": [
        {
          "output_type": "execute_result",
          "data": {
            "text/plain": [
              "array([[0, 0, 0, 1],\n",
              "       [0, 1, 0, 0],\n",
              "       [1, 0, 0, 0],\n",
              "       ...,\n",
              "       [1, 0, 0, 0],\n",
              "       [0, 0, 0, 1],\n",
              "       [1, 0, 0, 0]])"
            ]
          },
          "metadata": {},
          "execution_count": 67
        }
      ]
    },
    {
      "cell_type": "code",
      "source": [
        "# predictions"
      ],
      "metadata": {
        "id": "Gt5qNhVhxHTl"
      },
      "execution_count": null,
      "outputs": []
    },
    {
      "cell_type": "code",
      "source": [
        "y_test.shape"
      ],
      "metadata": {
        "colab": {
          "base_uri": "https://localhost:8080/"
        },
        "id": "-0BvNfnRxLnD",
        "outputId": "96de455c-90ee-4c2d-e916-b57449bbd751"
      },
      "execution_count": null,
      "outputs": [
        {
          "output_type": "execute_result",
          "data": {
            "text/plain": [
              "(364, 4)"
            ]
          },
          "metadata": {},
          "execution_count": 69
        }
      ]
    },
    {
      "cell_type": "code",
      "source": [
        "model.evaluate(x_test,y_test)"
      ],
      "metadata": {
        "colab": {
          "base_uri": "https://localhost:8080/"
        },
        "id": "8evUpOH60Elz",
        "outputId": "593c989d-b85b-4fd6-f104-364f9edda8bc"
      },
      "execution_count": null,
      "outputs": [
        {
          "output_type": "stream",
          "name": "stdout",
          "text": [
            "12/12 [==============================] - 0s 2ms/step - loss: 0.3209 - accuracy: 0.9066\n"
          ]
        },
        {
          "output_type": "execute_result",
          "data": {
            "text/plain": [
              "[0.3209175765514374, 0.906593382358551]"
            ]
          },
          "metadata": {},
          "execution_count": 78
        }
      ]
    },
    {
      "cell_type": "code",
      "source": [
        "from sklearn.metrics import classification_report\n",
        "print(classification_report(predictions,y_test))"
      ],
      "metadata": {
        "colab": {
          "base_uri": "https://localhost:8080/"
        },
        "id": "xopj3y6dxOfM",
        "outputId": "dc3a2a63-f5ab-43fc-f61f-fa86ee38c5a5"
      },
      "execution_count": null,
      "outputs": [
        {
          "output_type": "stream",
          "name": "stdout",
          "text": [
            "              precision    recall  f1-score   support\n",
            "\n",
            "           0       0.90      0.88      0.89       108\n",
            "           1       0.97      0.99      0.98       105\n",
            "           2       0.89      0.95      0.92        66\n",
            "           3       0.72      0.91      0.80        64\n",
            "\n",
            "   micro avg       0.88      0.93      0.91       343\n",
            "   macro avg       0.87      0.93      0.90       343\n",
            "weighted avg       0.89      0.93      0.91       343\n",
            " samples avg       0.88      0.88      0.88       343\n",
            "\n"
          ]
        },
        {
          "output_type": "stream",
          "name": "stderr",
          "text": [
            "/usr/local/lib/python3.7/dist-packages/sklearn/metrics/_classification.py:1318: UndefinedMetricWarning: Recall and F-score are ill-defined and being set to 0.0 in samples with no true labels. Use `zero_division` parameter to control this behavior.\n",
            "  _warn_prf(average, modifier, msg_start, len(result))\n"
          ]
        }
      ]
    },
    {
      "cell_type": "code",
      "source": [
        "from sklearn.metrics import confusion_matrix,ConfusionMatrixDisplay\n",
        "cmmdt = confusion_matrix(y_test.argmax(axis=1), predictions.argmax(axis=1))\n",
        "cmdt = ConfusionMatrixDisplay(cmmdt,display_labels=['CPCC','FPCC','TMCC','UPCC'])\n",
        "cmdt.plot()"
      ],
      "metadata": {
        "colab": {
          "base_uri": "https://localhost:8080/",
          "height": 296
        },
        "id": "AjP0gBCgzHQj",
        "outputId": "24884513-62a8-4d63-9141-29dc947d74b6"
      },
      "execution_count": null,
      "outputs": [
        {
          "output_type": "execute_result",
          "data": {
            "text/plain": [
              "<sklearn.metrics._plot.confusion_matrix.ConfusionMatrixDisplay at 0x7f92847ada50>"
            ]
          },
          "metadata": {},
          "execution_count": 77
        },
        {
          "output_type": "display_data",
          "data": {
            "text/plain": [
              "<Figure size 432x288 with 2 Axes>"
            ],
            "image/png": "[encoded data removed]"
          },
          "metadata": {
            "needs_background": "light"
          }
        }
      ]
    },
    {
      "cell_type": "code",
      "source": [
        "from google.colab import drive\n",
        "drive.mount('/content/drive')"
      ],
      "metadata": {
        "colab": {
          "base_uri": "https://localhost:8080/"
        },
        "id": "cFcEIpOIwm5x",
        "outputId": "b7a7b521-90c7-4b0e-c476-bf602e1f222c"
      },
      "execution_count": null,
      "outputs": [
        {
          "output_type": "stream",
          "name": "stdout",
          "text": [
            "Mounted at /content/drive\n"
          ]
        }
      ]
    }
  ]
}